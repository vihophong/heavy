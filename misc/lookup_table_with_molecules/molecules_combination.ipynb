{
 "cells": [
  {
   "cell_type": "code",
   "execution_count": 1,
   "id": "d9284408",
   "metadata": {},
   "outputs": [],
   "source": [
    "from __future__ import print_function\n",
    "import struct\n",
    "import numpy as np\n",
    "import math\n",
    "import os\n",
    "import sys\n",
    "# import ROOT\n",
    "import array\n",
    "# %matplotlib notebook\n",
    "import matplotlib.pyplot as plt\n",
    "import re\n",
    "import pandas as pd\n",
    "import copy\n",
    "import glob\n",
    "from parse import parse\n",
    "\n",
    "import matplotlib.pylab as pltt\n",
    "from mpl_toolkits.axes_grid1 import make_axes_locatable\n",
    "from matplotlib.colors import LogNorm\n",
    "from matplotlib.patches import Ellipse,Arrow\n",
    "from matplotlib.ticker import MaxNLocator\n",
    "from matplotlib.ticker import (MultipleLocator, AutoMinorLocator)\n",
    "\n",
    "import matplotlib\n",
    "font = {'family' : 'Times New Roman',\n",
    "        'weight' : 'normal',\n",
    "        'size'   : 20}\n",
    "matplotlib.rc('font', **font)\n",
    "import matplotlib.font_manager as font_manager\n",
    "\n",
    "import resource\n",
    "soft, hard = resource.getrlimit(resource.RLIMIT_NOFILE)\n",
    "resource.setrlimit(resource.RLIMIT_NOFILE, (hard, hard))\n"
   ]
  },
  {
   "cell_type": "code",
   "execution_count": 2,
   "id": "8ec17348",
   "metadata": {},
   "outputs": [],
   "source": [
    "elements={\"h\": 1, \"he\": 2, \"li\": 3, \"be\": 4, \"b\": 5, \"c\": 6, \"n\": 7, \"o\": 8, \"f\": 9, \"ne\": 10, \"na\": 11, \"mg\": 12, \"al\": 13, \n",
    "\"si\": 14, \"p\": 15, \"s\": 16, \"cl\": 17, \"ar\": 18, \"k\": 19, \"ca\": 20, \"sc\": 21, \"ti\": 22, \"v\": 23, \"cr\": 24, \"mn\": 25, \"fe\": 26,\n",
    " \"co\": 27, \"ni\": 28, \"cu\": 29, \"zn\": 30, \"ga\": 31, \"ge\": 32, \"as\": 33, \"se\": 34, \"br\": 35, \"kr\": 36, \"rb\": 37, \"sr\": 38, \"y\": 39,\n",
    "  \"zr\": 40, \"nb\": 41, \"mo\": 42, \"tc\": 43, \"ru\": 44, \"rh\": 45, \"pd\": 46, \"ag\": 47, \"cd\": 48, \"in\": 49, \"sn\": 50, \"sb\": 51, \"te\": 52,\n",
    "   \"i\": 53, \"xe\": 54, \"cs\": 55, \"ba\": 56, \"la\": 57, \"ce\": 58, \"pr\": 59, \"nd\": 60, \"pm\": 61, \"sm\": 62, \"eu\": 63, \"gd\": 64, \"tb\": 65,\n",
    "    \"dy\": 66, \"ho\": 67, \"er\": 68, \"tm\": 69, \"yb\": 70, \"lu\": 71, \"hf\": 72, \"ta\": 73, \"w\": 74, \"re\": 75, \"os\": 76, \"ir\": 77, \"pt\": 78,\n",
    "     \"au\": 79, \"hg\": 80, \"tl\": 81, \"pb\": 82, \"bi\": 83, \"po\": 84, \"at\": 85, \"rn\": 86, \"fr\": 87, \"ra\": 88, \"ac\": 89, \"th\": 90, \"pa\": 91,\n",
    "      \"u\": 92, \"np\": 93, \"pu\": 94, \"am\": 95, \"cm\": 96, \"bk\": 97, \"cf\": 98, \"es\": 99, \"fm\": 100, \"md\": 101, \"no\": 102, \"lr\": 103, \"rf\": 104,\n",
    "       \"db\": 105, \"sg\": 106, \"bh\": 107, \"hs\": 108, \"mt\": 109, \"ds\": 110, \"rg\": 111, \"cn\": 112, \"nh\": 113, \"fl\": 114, \"mc\": 115, \"lv\": 116, \"ts\": 117, \"og\": 118,\n",
    "       \"119\": 119,\"120\": 120,\"121\": 121,\"122\": 122,\"123\": 123,\"124\": 124,\"125\": 125,\"126\": 126,\"127\": 127,\"128\": 128,\"129\": 129,\"130\": 130,\n",
    "       \"131\": 131,\"132\": 132,\"133\": 133,\"134\": 134,\"135\": 135,\"136\": 136}\n",
    "\n",
    "Zele = []\n",
    "Zele.append(\"n\")\n",
    "for key in elements:\n",
    "    Zele.append(key)\n",
    "\n",
    "def getnamebyz(z):\n",
    "    \"\"\"\n",
    "    Get element name by atomic number Z\n",
    "    \n",
    "    Parameters:\n",
    "       z ( int ): Atomic number Z\n",
    "    \"\"\"\n",
    "    return Zele[z]\n",
    "\n",
    "def getZ(input):\n",
    "    \"\"\"\n",
    "    Get atomic number Z by element name\n",
    "    \n",
    "    Parameters:\n",
    "       input ( str ): Element name\n",
    "    \"\"\"\n",
    "    if (input==\"\"):\n",
    "        return -8888\n",
    "    else:\n",
    "        sep=re.split('(\\d+)',input)\n",
    "        if len(sep)==1:\n",
    "            if sep[0]==\"n\":\n",
    "                return int(0)\n",
    "            elif (sep[0]==\"p\" or sep[0]==\"d\" or sep[0]==\"t\"):\n",
    "                return int(1)            \n",
    "            else:\n",
    "                print(\"Something wrong! \",input)\n",
    "        else:\n",
    "            return int(elements[sep[0]])\n",
    "\n",
    "def getA(input):\n",
    "    \"\"\"\n",
    "    Get mass number A by element name\n",
    "    \n",
    "    Parameters:\n",
    "       input ( str ): Element name\n",
    "    \"\"\"\n",
    "    if (input==\"\"):\n",
    "        return -9999\n",
    "    else:\n",
    "        sep=re.split('(\\d+)',input)\n",
    "        if len(sep)==1:\n",
    "            if sep[0]==\"n\":\n",
    "                return 1\n",
    "            elif sep[0]==\"p\":\n",
    "                return 1\n",
    "            elif sep[0]==\"d\":\n",
    "                return 2\n",
    "            elif sep[0]==\"t\":\n",
    "                return 3\n",
    "            else:\n",
    "                print(\"Something wrong! \",input)\n",
    "        else:\n",
    "            return int(sep[1])\n",
    "\n",
    "def drawbox(N,Z,fcolor='None',ecolor='gray', falpha = 1,zorder=-1):\n",
    "    if (zorder>0):\n",
    "        rec = plt.Rectangle((N-0.5,Z-0.5),1,1,facecolor=fcolor,edgecolor=ecolor,alpha = falpha,zorder=zorder)\n",
    "    else:\n",
    "        rec = plt.Rectangle((N-0.5,Z-0.5),1,1,facecolor=fcolor,edgecolor=ecolor,alpha = falpha)\n",
    "    #plt.text(N-0.4,Z-0.1,'$\\mathregular{^{'+str(Z+N)+'}'+elements[Z]+'}$')\n",
    "    return rec \n",
    "\n",
    "\n",
    "def drawarea(Aele,fcolor='None',iswithtext=True):\n",
    "    recs = []\n",
    "    for i in Aele:\n",
    "        for j in range(i[1]-elements[i[0].lower()],i[2]-elements[i[0].lower()]+1):\n",
    "            recs.append(drawbox(j,elements[i[0].lower()],fcolor))\n",
    "    return recs\n",
    "\n",
    "\n",
    "Zlim = [9.5,116]\n",
    "Nlim = [9.5,200]\n",
    "NZstep = [2,2]\n",
    "def plot_base(axis,eletag=False):\n",
    "    magic_num = [2, 8, 20, 28, 50, 82, 126]\n",
    "    for i in magic_num:\n",
    "        axis.axhline(y=i+0.5,color='b',linestyle='--',linewidth=0.2)\n",
    "        axis.axhline(y=i-0.5,color='b',linestyle='--',linewidth=0.2)\n",
    "        axis.axvline(x=i+0.5,color='b',linestyle='--',linewidth=0.2)\n",
    "        axis.axvline(x=i-0.5,color='b',linestyle='--',linewidth=0.2)\n",
    "\n",
    "    nubase_stable = np.load(\"heavy/nubase/nubase_stable.npy\",allow_pickle='TRUE')\n",
    "    for i in range(len(nubase_stable)):\n",
    "        axis.add_patch(drawbox(nubase_stable[i][\"N\"],nubase_stable[i][\"Z\"],fcolor='k',ecolor='None',falpha = 1))\n",
    "    axis.set_xlabel('Neutron number, $N$')\n",
    "    axis.set_ylabel('Proton number, $Z$')\n",
    "    axis.set_xlim(Nlim)\n",
    "    axis.set_ylim(Zlim)\n",
    "    if(eletag):    \n",
    "        for i in range(int(Zlim[0]+0.5),int(Zlim[1]+0.5)):\n",
    "            text = axis.text(Nlim[1]-1.5, i, getnamebyz(i).capitalize(),ha=\"center\", va=\"center\", color=\"k\",fontweight='bold',fontsize='medium',family = ['Times New Roman'])\n",
    "    axis.set_xticks(np.arange(Nlim[0]+0.5,Nlim[1]-0.5,NZstep[0]))\n",
    "    axis.set_xticklabels([('%.0f'%i) for i in np.arange(Nlim[0]+0.5,Nlim[1]-0.5,NZstep[0])])\n",
    "    axis.set_yticks(np.arange(Zlim[0]+0.5,Zlim[1]-0.5,NZstep[1]))\n",
    "    axis.set_yticklabels([('%.0f'%i) for i in np.arange(Zlim[0]+0.5,Zlim[1]-0.5,NZstep[1])])    \n",
    "def plot_magic(axis,color='y',linewidth=1):\n",
    "    magic_num = [2, 8, 20, 28, 50, 82, 126]\n",
    "    for i in magic_num:\n",
    "        axis.axhline(y=i+0.5,color=color,linestyle='--',linewidth=linewidth)\n",
    "        axis.axhline(y=i-0.5,color=color,linestyle='--',linewidth=linewidth)\n",
    "        axis.axvline(x=i+0.5,color=color,linestyle='--',linewidth=linewidth)\n",
    "        axis.axvline(x=i-0.5,color=color,linestyle='--',linewidth=linewidth)\n",
    "#     axis.text(riname, i, getnamebyz(i).capitalize(),ha=\"center\", va=\"center\", color=\"k\",fontweight='normal',fontsize='medium',family = ['Times New Roman'])"
   ]
  },
  {
   "cell_type": "code",
   "execution_count": 3,
   "id": "4d9f2960",
   "metadata": {},
   "outputs": [],
   "source": [
    "def getcmap(bounds,colormap=\"Spectral\"):\n",
    "    cmap = matplotlib.cm.get_cmap(colormap)\n",
    "    # Get the colormap colors\n",
    "    my_cmap = cmap(np.arange(cmap.N))\n",
    "    # Set alpha\n",
    "    my_cmap[:,-1] = np.full(cmap.N,1.)\n",
    "    # Create new colormap\n",
    "    cmap = matplotlib.colors.ListedColormap(my_cmap)\n",
    "\n",
    "    cmaplist = [cmap(i) for i in range(cmap.N)]\n",
    "    # cmaplist[0] = (1., 1., 1., 1.0)\n",
    "    cmap = matplotlib.colors.LinearSegmentedColormap.from_list('Custom cmap', cmaplist, cmap.N)\n",
    "\n",
    "    norm = matplotlib.colors.BoundaryNorm(bounds, cmap.N)\n",
    "    sm = matplotlib.cm.ScalarMappable(cmap=cmap, norm=norm)\n",
    "    return cmap,sm,norm"
   ]
  },
  {
   "cell_type": "code",
   "execution_count": 4,
   "id": "b137f658",
   "metadata": {},
   "outputs": [
    {
     "name": "stdout",
     "output_type": "stream",
     "text": [
      "{'N-Z': 1, 'N': 1, 'Z': 0, 'A': 1, 'EL': 'n', 'O': 'na', 'M': 8071.31806, 'DM': 0.00044, 'is_ex_M': 1, 'B': 0.0, 'DB': 0.0, 'is_ex_B': 1, 'Decay': 'B-', 'Qb': 782.347, 'DQb': 0.0004, 'is_ex_Qb': 1, 'A2': 1, 'AM': 8664.9159, 'DAM': 0.00047, 'is_ex_AM': 1, 'ZA': 1, 'Sn': 0.0, 'D_Sn': 0.0, 'is_ex_Sn': 1, 'Sp': 999999.0, 'D_Sp': 999999.0, 'is_ex_Sp': 1, 'Q4b': 999999.0, 'D_Q4b': 999999.0, 'is_ex_Q4b': 1, 'Qda': 999999.0, 'D_Qda': 999999.0, 'is_ex_Qda': 1, 'Qpa': 999999.0, 'Qna': 999999.0, 'D_Qna': 999999.0, 'is_ex_Qna': 1, 'S2n': 999999.0, 'D_S2n': 999999.0, 'is_ex_S2n': 1, 'S2p': 999999.0, 'D_S2p': 999999.0, 'is_ex_S2p': 1, 'Qa': 999999.0, 'D_Qa': 999999.0, 'is_ex_Qa': 1, 'Q2b': 999999.0, 'D_Q2b': 999999.0, 'is_ex_Q2b': 1, 'Qep': 999999.0, 'D_Qep': 999999.0, 'is_ex_Qep': 1, 'Qbn': 999999.0, 'D_Qbn': 999999.0, 'is_ex_Qbn': 1}\n"
     ]
    }
   ],
   "source": [
    "ame = np.load(\"heavy/ame/all_ame20.npy\",allow_pickle='TRUE')"
   ]
  },
  {
   "cell_type": "code",
   "execution_count": 180,
   "id": "5c3e8d41",
   "metadata": {},
   "outputs": [
    {
     "name": "stdout",
     "output_type": "stream",
     "text": [
      "{'N-Z': 10, 'N': 15, 'Z': 5, 'A': 20, 'EL': 'B', 'O': '-n', 'M': 69401.569, 'DM': 546.357, 'is_ex_M': 1, 'B': 4405.6529, 'DB': 27.3178, 'is_ex_B': 1, 'Decay': 'B-', 'Qb': 31898.0019, 'DQb': 593.0377, 'is_ex_Qb': 1, 'A2': 20, 'AM': 74505.644, 'DAM': 586.538, 'is_ex_AM': 1, 'ZA': 5020, 'Sn': -1560.0, 'D_Sn': 150.0, 'is_ex_Sn': 1, 'Sp': 999999.0, 'D_Sp': 999999.0, 'is_ex_Sp': 1, 'Q4b': 69419.0319, 'D_Q4b': 546.357, 'is_ex_Q4b': 1, 'Qda': 999999.0, 'D_Qda': 999999.0, 'is_ex_Qda': 1, 'Qpa': 999999.0, 'Qna': 999999.0, 'D_Qna': 999999.0, 'is_ex_Qna': 1, 'S2n': -1466.2927, 'D_S2n': 583.2574, 'is_ex_S2n': 1, 'S2p': 999999.0, 'D_S2p': 999999.0, 'is_ex_S2p': 1, 'Qa': 999999.0, 'D_Qa': 999999.0, 'is_ex_Qa': 1, 'Q2b': 47635.0708, 'D_Q2b': 552.0237, 'is_ex_Q2b': 1, 'Qep': 999999.0, 'D_Qep': 999999.0, 'is_ex_Qep': 1, 'Qbn': 28916.4961, 'D_Qbn': 555.1454, 'is_ex_Qbn': 1}\n"
     ]
    }
   ],
   "source": [
    "print(ame[100])"
   ]
  },
  {
   "cell_type": "code",
   "execution_count": 19,
   "id": "3172f945",
   "metadata": {},
   "outputs": [
    {
     "name": "stdout",
     "output_type": "stream",
     "text": [
      "{'ZA': 20029, 'N': 9, 'Z': 20, 'A': 29, 'EL': 'ca', 'Ebind': 122.253, 'mass': 96.16828381999998, 'S1n': 0.0, 'S2n': 0.0, 'S1p': 0.0, 'S2p': -14.411, 'Qb': -999999, 'Qbn': -999999, 'isbound': False}\n"
     ]
    }
   ],
   "source": [
    "dz10 = np.load(\"heavy/models/data_dz10.npy\",allow_pickle='TRUE')\n",
    "print(dz10[0])"
   ]
  },
  {
   "cell_type": "code",
   "execution_count": 20,
   "id": "567f2275",
   "metadata": {
    "scrolled": false
   },
   "outputs": [
    {
     "data": {
      "image/png": "[encoded data removed]",
      "text/plain": [
       "<Figure size 1332x720 with 1 Axes>"
      ]
     },
     "metadata": {
      "needs_background": "light"
     },
     "output_type": "display_data"
    }
   ],
   "source": [
    "## Plotting freezeout abundance\n",
    "Zlim = [0.5,150.5]\n",
    "Nlim = [0.5,250.5]\n",
    "astep = 20\n",
    "\n",
    "fig,axis = plt.subplots()\n",
    "fig.set_size_inches(18.5,10)\n",
    "fig.subplots_adjust(hspace=0,wspace=0)\n",
    "plot_base(axis,False);\n",
    "axis.set_xticks(np.arange(Nlim[0]+0.5,Nlim[1]-0.5,astep));\n",
    "axis.set_xticklabels([('%.0f'%i) for i in np.arange(Nlim[0]+0.5,Nlim[1]-0.5,astep)]);\n",
    "axis.set_yticks(np.arange(Zlim[0]+0.5,Zlim[1]-0.5,astep));\n",
    "axis.set_yticklabels([('%.0f'%i) for i in np.arange(Zlim[0]+0.5,Zlim[1]-0.5,astep)]);\n",
    "nubase_stable = np.load(\"heavy/nubase/nubase_stable.npy\",allow_pickle='TRUE')\n",
    "\n",
    "# line = \"Nuc,A,Z,N,mass,dmass,mass excess, dmass excess\\n\"\n",
    "for i in ame:\n",
    "    filter_stable = list(filter(lambda cond: (cond[\"N\"] == i[\"N\"] and cond[\"Z\"]==i[\"Z\"]),nubase_stable))\n",
    "    plt.gca().add_patch(drawbox(i[\"N\"],i[\"Z\"],fcolor='None',ecolor='k',falpha = 1))\n",
    "    if (len(filter_stable)>=1):\n",
    "        plt.gca().add_patch(drawbox(i[\"N\"],i[\"Z\"],fcolor='b',ecolor='None',falpha = 1))\n",
    "    else:\n",
    "        if (i[\"Qb\"]>0 and i[\"Qb\"]<999999):\n",
    "            plt.gca().add_patch(drawbox(i[\"N\"],i[\"Z\"],fcolor='r',ecolor='None',falpha = 1))\n",
    "        else:\n",
    "            plt.gca().add_patch(drawbox(i[\"N\"],i[\"Z\"],fcolor='y',ecolor='None',falpha = 1))\n",
    "    mass_amu = i[\"A2\"]+i[\"AM\"]*1e-6\n",
    "    dmass_amu = i[\"DAM\"]*1e-6\n",
    "    mass_excess = i[\"M\"]\n",
    "    dmass_excess = i[\"DM\"]"
   ]
  },
  {
   "cell_type": "code",
   "execution_count": 21,
   "id": "a0d50290",
   "metadata": {},
   "outputs": [],
   "source": [
    "## Gettting all molecules for Z<110\n",
    "import nistchempy as nist"
   ]
  },
  {
   "cell_type": "code",
   "execution_count": 23,
   "id": "3a6c5424",
   "metadata": {},
   "outputs": [],
   "source": [
    "df = nist.get_all_data()"
   ]
  },
  {
   "cell_type": "code",
   "execution_count": 106,
   "id": "0b766ef0",
   "metadata": {},
   "outputs": [],
   "source": [
    "df.to_pickle(\"nist_compound_data.pkl\")"
   ]
  },
  {
   "cell_type": "code",
   "execution_count": 107,
   "id": "66cb72fa",
   "metadata": {},
   "outputs": [],
   "source": [
    "import re"
   ]
  },
  {
   "cell_type": "code",
   "execution_count": 314,
   "id": "b96f65c0",
   "metadata": {
    "scrolled": false
   },
   "outputs": [],
   "source": [
    "list_associated_elements = [\"H\",\"C\",\"N\",\"O\",\"F\",\"P\",\"S\",\"Cl\"]\n",
    "list_associated_elements_keys = {\"H\":0,\"C\":1,\"N\":2,\"O\":3,\"F\":4,\"P\":5,\"S\":6,\"Cl\":7}\n",
    "\n",
    "\n",
    "filtered_df1 = df.loc[~df['formula'].str.contains(' |\\+|\\-|·')]\n",
    "# filtered_df2 = filtered_df1.loc[filtered_df1['formula'].str.contains('As')]\n",
    "# filtered_df3 = filtered_df2.loc[filtered_df2['formula'].str.contains('O|C|F|H')]\n",
    "cnt = 0\n",
    "molecules = []\n",
    "for ind in filtered_df1.index:\n",
    "    txt = filtered_df1['formula'][ind]\n",
    "#     res = [idx for idx in range(len(txt)) if txt[idx].isupper()]\n",
    "    txtout = \"\"\n",
    "    for idx in range(len(txt)):\n",
    "        if txt[idx].isupper():\n",
    "            txtout+=\"-\"\n",
    "        txtout+=txt[idx]\n",
    "    txtout_arr = txtout.split(\"-\")\n",
    "    txtout_arr = txtout_arr[1:]\n",
    "    txtout_arr2 = []\n",
    "    for i in txtout_arr:\n",
    "        itemstxtout = re.split('(\\d+)',i)\n",
    "        if (len(itemstxtout)>1):\n",
    "            itemstxtout = itemstxtout[:-1]\n",
    "            txtout_arr2.append(itemstxtout)\n",
    "        else:\n",
    "            itemstxtout.append('1')\n",
    "            txtout_arr2.append(itemstxtout)\n",
    "#     print(txt,txtout_arr2)\n",
    "    #reject molecular with only one element\n",
    "    if (len(txtout_arr2)==1):\n",
    "        continue\n",
    "        print(txt,txtout_arr2)\n",
    "    #reject different names in periodic table (mostly p, d, t\n",
    "    is_iso = False\n",
    "    for i in txtout_arr2:\n",
    "        if (not (i[0].lower() in elements)):\n",
    "            is_iso = True\n",
    "    if (is_iso):\n",
    "        continue\n",
    "#     print(txtout_arr2)\n",
    "    molecule = []\n",
    "    elelist = []\n",
    "#     flag_include_associated_elements = False\n",
    "    association_pattern = 0x0\n",
    "    for i in txtout_arr2:\n",
    "        molecule.append({\"ele\":i[0],\"Z\":elements[i[0].lower()],\"num\":int(i[1])})\n",
    "        elelist.append(i[0])\n",
    "        if (i[0] in list_associated_elements):\n",
    "            association_pattern = association_pattern|(1<<list_associated_elements_keys[i[0]])\n",
    "\n",
    "    if (association_pattern==0):\n",
    "        continue\n",
    "    molecules.append({\"formula\":txt,\"items\":molecule,\"elelist\":elelist,\n",
    "                      \"association_pattern\":association_pattern,\"keys\":list_associated_elements_keys})\n",
    "#     if (cnt>100):\n",
    "#         break\n",
    "    cnt+=1"
   ]
  },
  {
   "cell_type": "code",
   "execution_count": 343,
   "id": "c723e2af",
   "metadata": {},
   "outputs": [
    {
     "name": "stdout",
     "output_type": "stream",
     "text": [
      "1461\n",
      "{'formula': 'AgH3', 'items': [{'ele': 'Ag', 'Z': 47, 'num': 1}, {'ele': 'H', 'Z': 1, 'num': 3}], 'elelist': ['Ag', 'H'], 'association_pattern': 1, 'keys': {'H': 0, 'C': 1, 'N': 2, 'O': 3, 'F': 4, 'P': 5, 'S': 6, 'Cl': 7}}\n",
      "{'formula': 'AgNO', 'items': [{'ele': 'Ag', 'Z': 47, 'num': 1}, {'ele': 'N', 'Z': 7, 'num': 1}, {'ele': 'O', 'Z': 8, 'num': 1}], 'elelist': ['Ag', 'N', 'O'], 'association_pattern': 12, 'keys': {'H': 0, 'C': 1, 'N': 2, 'O': 3, 'F': 4, 'P': 5, 'S': 6, 'Cl': 7}}\n",
      "{'formula': 'AlBrClH', 'items': [{'ele': 'Al', 'Z': 13, 'num': 1}, {'ele': 'Br', 'Z': 35, 'num': 1}, {'ele': 'Cl', 'Z': 17, 'num': 1}, {'ele': 'H', 'Z': 1, 'num': 1}], 'elelist': ['Al', 'Br', 'Cl', 'H'], 'association_pattern': 129, 'keys': {'H': 0, 'C': 1, 'N': 2, 'O': 3, 'F': 4, 'P': 5, 'S': 6, 'Cl': 7}}\n",
      "{'formula': 'AlBrCl2', 'items': [{'ele': 'Al', 'Z': 13, 'num': 1}, {'ele': 'Br', 'Z': 35, 'num': 1}, {'ele': 'Cl', 'Z': 17, 'num': 2}], 'elelist': ['Al', 'Br', 'Cl'], 'association_pattern': 128, 'keys': {'H': 0, 'C': 1, 'N': 2, 'O': 3, 'F': 4, 'P': 5, 'S': 6, 'Cl': 7}}\n",
      "{'formula': 'AlBrFH', 'items': [{'ele': 'Al', 'Z': 13, 'num': 1}, {'ele': 'Br', 'Z': 35, 'num': 1}, {'ele': 'F', 'Z': 9, 'num': 1}, {'ele': 'H', 'Z': 1, 'num': 1}], 'elelist': ['Al', 'Br', 'F', 'H'], 'association_pattern': 17, 'keys': {'H': 0, 'C': 1, 'N': 2, 'O': 3, 'F': 4, 'P': 5, 'S': 6, 'Cl': 7}}\n",
      "{'formula': 'AlBrF2', 'items': [{'ele': 'Al', 'Z': 13, 'num': 1}, {'ele': 'Br', 'Z': 35, 'num': 1}, {'ele': 'F', 'Z': 9, 'num': 2}], 'elelist': ['Al', 'Br', 'F'], 'association_pattern': 16, 'keys': {'H': 0, 'C': 1, 'N': 2, 'O': 3, 'F': 4, 'P': 5, 'S': 6, 'Cl': 7}}\n",
      "{'formula': 'AlBrO2', 'items': [{'ele': 'Al', 'Z': 13, 'num': 1}, {'ele': 'Br', 'Z': 35, 'num': 1}, {'ele': 'O', 'Z': 8, 'num': 2}], 'elelist': ['Al', 'Br', 'O'], 'association_pattern': 8, 'keys': {'H': 0, 'C': 1, 'N': 2, 'O': 3, 'F': 4, 'P': 5, 'S': 6, 'Cl': 7}}\n",
      "{'formula': 'AlBrO2', 'items': [{'ele': 'Al', 'Z': 13, 'num': 1}, {'ele': 'Br', 'Z': 35, 'num': 1}, {'ele': 'O', 'Z': 8, 'num': 2}], 'elelist': ['Al', 'Br', 'O'], 'association_pattern': 8, 'keys': {'H': 0, 'C': 1, 'N': 2, 'O': 3, 'F': 4, 'P': 5, 'S': 6, 'Cl': 7}}\n",
      "{'formula': 'AlBrO4', 'items': [{'ele': 'Al', 'Z': 13, 'num': 1}, {'ele': 'Br', 'Z': 35, 'num': 1}, {'ele': 'O', 'Z': 8, 'num': 4}], 'elelist': ['Al', 'Br', 'O'], 'association_pattern': 8, 'keys': {'H': 0, 'C': 1, 'N': 2, 'O': 3, 'F': 4, 'P': 5, 'S': 6, 'Cl': 7}}\n",
      "{'formula': 'AlClFH', 'items': [{'ele': 'Al', 'Z': 13, 'num': 1}, {'ele': 'Cl', 'Z': 17, 'num': 1}, {'ele': 'F', 'Z': 9, 'num': 1}, {'ele': 'H', 'Z': 1, 'num': 1}], 'elelist': ['Al', 'Cl', 'F', 'H'], 'association_pattern': 145, 'keys': {'H': 0, 'C': 1, 'N': 2, 'O': 3, 'F': 4, 'P': 5, 'S': 6, 'Cl': 7}}\n"
     ]
    }
   ],
   "source": []
  },
  {
   "cell_type": "code",
   "execution_count": 316,
   "id": "fd2ac855",
   "metadata": {},
   "outputs": [],
   "source": [
    "from pyteomics import mass"
   ]
  },
  {
   "cell_type": "code",
   "execution_count": 317,
   "id": "175d9004",
   "metadata": {},
   "outputs": [
    {
     "name": "stdout",
     "output_type": "stream",
     "text": [
      "{0: (12.0, 1.0), 8: (8.037675, 0.0), 9: (9.0310367, 0.0), 10: (10.0168532, 0.0), 11: (11.0114336, 0.0), 12: (12.0, 0.9893), 13: (13.0033548378, 0.0107), 14: (14.003241989, 0.0), 15: (15.0105993, 0.0), 16: (16.014701, 0.0), 17: (17.022586, 0.0), 18: (18.02676, 0.0), 19: (19.03481, 0.0), 20: (20.04032, 0.0), 21: (21.04934, 0.0), 22: (22.0572, 0.0)}\n"
     ]
    }
   ],
   "source": [
    "print(mass.nist_mass['C'])"
   ]
  },
  {
   "cell_type": "code",
   "execution_count": 318,
   "id": "826787fd",
   "metadata": {},
   "outputs": [
    {
     "name": "stdout",
     "output_type": "stream",
     "text": [
      "{'H': [{'Iso': '<sup>1</sup>H', 'Z': 1, 'A': 1, 'abundance': 0.999885, 'amass': 1.00782503207, 'num': 0}], 'C': [{'Iso': '<sup>12</sup>C', 'Z': 6, 'A': 12, 'abundance': 0.9893, 'amass': 12.0, 'num': 0}, {'Iso': '<sup>13</sup>C', 'Z': 6, 'A': 13, 'abundance': 0.0107, 'amass': 13.0033548378, 'num': 0}], 'N': [{'Iso': '<sup>14</sup>N', 'Z': 7, 'A': 14, 'abundance': 0.99636, 'amass': 14.0030740048, 'num': 0}], 'O': [{'Iso': '<sup>16</sup>O', 'Z': 8, 'A': 16, 'abundance': 0.99757, 'amass': 15.99491461956, 'num': 0}], 'F': [{'Iso': '<sup>19</sup>F', 'Z': 9, 'A': 19, 'abundance': 1.0, 'amass': 18.99840322, 'num': 0}], 'P': [{'Iso': '<sup>31</sup>P', 'Z': 15, 'A': 31, 'abundance': 1.0, 'amass': 30.97376163, 'num': 0}], 'S': [{'Iso': '<sup>32</sup>S', 'Z': 16, 'A': 32, 'abundance': 0.9499, 'amass': 31.972071, 'num': 0}, {'Iso': '<sup>34</sup>S', 'Z': 16, 'A': 34, 'abundance': 0.0425, 'amass': 33.9678669, 'num': 0}], 'Cl': [{'Iso': '<sup>35</sup>Cl', 'Z': 17, 'A': 35, 'abundance': 0.7576, 'amass': 34.96885268, 'num': 0}, {'Iso': '<sup>37</sup>Cl', 'Z': 17, 'A': 37, 'abundance': 0.2424, 'amass': 36.96590259, 'num': 0}]}\n",
      "{'H': [{'Iso': '<sup>1</sup>H', 'Z': 1, 'A': 1, 'abundance': 0.999885, 'amass': 1.00782503207, 'num': 0}], 'C': [{'Iso': '<sup>12</sup>C', 'Z': 6, 'A': 12, 'abundance': 0.9893, 'amass': 12.0, 'num': 0}, {'Iso': '<sup>13</sup>C', 'Z': 6, 'A': 13, 'abundance': 0.0107, 'amass': 13.0033548378, 'num': 0}], 'N': [{'Iso': '<sup>14</sup>N', 'Z': 7, 'A': 14, 'abundance': 0.99636, 'amass': 14.0030740048, 'num': 0}], 'O': [{'Iso': '<sup>16</sup>O', 'Z': 8, 'A': 16, 'abundance': 0.99757, 'amass': 15.99491461956, 'num': 0}], 'F': [{'Iso': '<sup>19</sup>F', 'Z': 9, 'A': 19, 'abundance': 1.0, 'amass': 18.99840322, 'num': 0}], 'P': [{'Iso': '<sup>31</sup>P', 'Z': 15, 'A': 31, 'abundance': 1.0, 'amass': 30.97376163, 'num': 0}], 'S': [{'Iso': '<sup>32</sup>S', 'Z': 16, 'A': 32, 'abundance': 0.9499, 'amass': 31.972071, 'num': 0}, {'Iso': '<sup>34</sup>S', 'Z': 16, 'A': 34, 'abundance': 0.0425, 'amass': 33.9678669, 'num': 0}], 'Cl': [{'Iso': '<sup>35</sup>Cl', 'Z': 17, 'A': 35, 'abundance': 0.7576, 'amass': 34.96885268, 'num': 0}, {'Iso': '<sup>37</sup>Cl', 'Z': 17, 'A': 37, 'abundance': 0.2424, 'amass': 36.96590259, 'num': 0}]}\n"
     ]
    }
   ],
   "source": [
    "associated_elements = {}\n",
    "for i in list_associated_elements:\n",
    "    list_stable_iso = [] \n",
    "    isodata = mass.nist_mass[i]\n",
    "    elementdata = []\n",
    "    for A in isodata:\n",
    "        if isodata[A][1]>0.01 and A>0:\n",
    "            elementdata.append({\"Iso\":\"<sup>\"+str(A)+\"</sup>\"+i,\"Z\":elements[i.lower()],\"A\":A,\"abundance\":isodata[A][1],\"amass\":isodata[A][0],\n",
    "                               \"num\":0})\n",
    "    associated_elements[i] = elementdata\n",
    "print(associated_elements)\n",
    "import copy\n",
    "associated_elements_c = copy.deepcopy(associated_elements)\n",
    "# associated_elements['H'][0]['abundance'] = 1\n",
    "print(associated_elements_c)"
   ]
  },
  {
   "cell_type": "code",
   "execution_count": 332,
   "id": "a86305f8",
   "metadata": {},
   "outputs": [
    {
     "name": "stdout",
     "output_type": "stream",
     "text": [
      "[{'formula': 'AgH3', 'items': [{'ele': 'Ag', 'Z': 47, 'num': 1}, {'ele': 'H', 'Z': 1, 'num': 3}], 'elelist': ['Ag', 'H'], 'association_pattern': 1, 'keys': {'H': 0, 'C': 1, 'N': 2, 'O': 3, 'F': 4, 'P': 5, 'S': 6, 'Cl': 7}, 'formulaAdd': '<sup>1</sup>H<sub>3</sub>', 'amass_add': 3.02347509621, 'abund_prod': 0.999885}, {'formula': 'AgNO', 'items': [{'ele': 'Ag', 'Z': 47, 'num': 1}, {'ele': 'N', 'Z': 7, 'num': 1}, {'ele': 'O', 'Z': 8, 'num': 1}], 'elelist': ['Ag', 'N', 'O'], 'association_pattern': 12, 'keys': {'H': 0, 'C': 1, 'N': 2, 'O': 3, 'F': 4, 'P': 5, 'S': 6, 'Cl': 7}, 'formulaAdd': '<sup>14</sup>N<sup>16</sup>O', 'amass_add': 29.997988624359998, 'abund_prod': 0.9939388452}]\n",
      "1461 2392\n"
     ]
    }
   ],
   "source": [
    "## Adding molecules list\n",
    "\n",
    "def productGen(arr, cur=[]):\n",
    "    if len(arr) < 1: \n",
    "        yield cur\n",
    "    else:\n",
    "        for item in arr[0]:\n",
    "            yield from productGen(arr[1:], [*cur, item])\n",
    "# i = 0\n",
    "# associated_elements_sort = []\n",
    "# for i in associated_elements:\n",
    "#     associated_elements_sort.append(associated_elements[i])\n",
    "# for combo in productGen(associated_elements_sort):\n",
    "#     print(combo)\n",
    "#     cnt+=1\n",
    "#     if (cnt>1):\n",
    "#         break\n",
    "        \n",
    "# molecules.append({\"formula\":txt,\"items\":molecule,\"elelist\":elelist,\n",
    "#                   \"association_pattern\":association_pattern,\"keys\":list_associated_elements_keys})\n",
    "#molecule.append({\"ele\":i[0],\"Z\":elements[i[0].lower()],\"num\":int(i[1])})\n",
    "molecules_more = []\n",
    "cnt = 0\n",
    "for i in molecules:\n",
    "    associated_elements_c = copy.deepcopy(associated_elements)\n",
    "    #mass added\n",
    "    for j in i[\"items\"]:\n",
    "        if (j[\"ele\"] in list_associated_elements):##only combination in the list\n",
    "            for kdx,k in enumerate(associated_elements_c[j[\"ele\"]]):#loop through all isotopes in associated_elements_c\n",
    "                associated_elements_c[j[\"ele\"]][kdx][\"num\"] = j[\"num\"]\n",
    "    associated_elements_here = []\n",
    "    for j in i[\"items\"]:\n",
    "        if (j[\"ele\"] in list_associated_elements):\n",
    "            associated_elements_here.append(associated_elements_c[j[\"ele\"]])\n",
    "    \n",
    "    for combo in productGen(associated_elements_here):#each combination\n",
    "        formulaAdd = \"\"\n",
    "        amass_add = 0.\n",
    "        abund_prod = 1.\n",
    "        for k in combo:\n",
    "            formulaAdd += k[\"Iso\"]+((\"<sub>\"+str(k[\"num\"])+\"</sub>\") if k[\"num\"]>1 else \"\")\n",
    "            amass_add+=k[\"amass\"]*float(k[\"num\"])\n",
    "            abund_prod*=k[\"abundance\"]\n",
    "#         print(formulaAdd,abund_prod)\n",
    "        molecules_more.append({\"formula\":i[\"formula\"],\"items\":i[\"items\"],\"elelist\":i[\"elelist\"],\n",
    "                               \"association_pattern\":i[\"association_pattern\"],\"keys\":i[\"keys\"],\n",
    "                               \"formulaAdd\":formulaAdd,\"amass_add\":amass_add,\"abund_prod\":abund_prod})          \n",
    "#     if (cnt>2):\n",
    "#         break\n",
    "    cnt+=1\n",
    "\n",
    "print(molecules_more[:2])\n",
    "print(len(molecules),len(molecules_more))"
   ]
  },
  {
   "cell_type": "code",
   "execution_count": 340,
   "id": "ef8886d2",
   "metadata": {
    "scrolled": false
   },
   "outputs": [
    {
     "name": "stdout",
     "output_type": "stream",
     "text": [
      "54003 3408 57411\n"
     ]
    }
   ],
   "source": [
    "all_mass_database = []\n",
    "#AME\n",
    "# list_associated_elements = [\"H\",\"C\",\"N\",\"O\",\"F\",\"P\",\"S\",\"Cl\"]\n",
    "# list_associated_elements_key = {\"H\":0,\"C\":1,\"N\":2,\"O\":3,\"F\":4,\"P\":5,\"S\":6,\"Cl\":7}\n",
    "\n",
    "cnt = 0\n",
    "cnt2 = 0\n",
    "for i in ame:\n",
    "    filter_stable = list(filter(lambda cond: (cond[\"N\"] == i[\"N\"] and cond[\"Z\"]==i[\"Z\"]),nubase_stable))\n",
    "    flag_betadecay = -9999\n",
    "    if (len(filter_stable)>=1):\n",
    "        flag_betadecay = 0\n",
    "    else:\n",
    "        if (i[\"Qb\"]>0 and i[\"Qb\"]<999999):\n",
    "            flag_betadecay = -1\n",
    "        else:\n",
    "            flag_betadecay = 1\n",
    "    amass_amu = i[\"A2\"]+i[\"AM\"]*1e-6\n",
    "    damass_amu = i[\"DAM\"]*1e-6\n",
    "    mass_excess = i[\"M\"]\n",
    "    dmass_excess = i[\"DM\"]\n",
    "    ## exception\n",
    "    if (i[\"EL\"] in list_associated_elements):\n",
    "        continue\n",
    "    if (i[\"Z\"]<=1):\n",
    "        continue\n",
    "    #Single isotope\n",
    "    association_pattern = 0x0\n",
    "    all_mass_database.append({\"tag\":(\"ame20exp\" if i[\"is_ex_M\"]==1 else \"ame20extr\"),\"formula\":i[\"EL\"],\"iso\":\"<sup>\"+str(i[\"N\"]+i[\"Z\"])+\"</sup>\"+i[\"EL\"],\n",
    "                              \"amass_amu\":amass_amu,\"damass_amu\":damass_amu,\n",
    "                              \"pattern\":association_pattern,\"abundance\":1.,\n",
    "                              \"primZ\":i[\"Z\"],\"primN\":i[\"N\"],\"primA\":i[\"N\"]+i[\"Z\"],\n",
    "                              \"primIso\":str(i[\"N\"]+i[\"Z\"])+i[\"EL\"],\"flag_betadecay\": flag_betadecay})\n",
    "    cnt2+=1\n",
    "    associated_molecules = []\n",
    "    for j in molecules_more:\n",
    "        if (not (i[\"EL\"] in j[\"elelist\"])):\n",
    "            continue\n",
    "        #loop through items\n",
    "        formula = j[\"formula\"]\n",
    "        items = j[\"items\"]\n",
    "        flag_exclude = False\n",
    "        for kdx,k in enumerate(items):\n",
    "            if (not (k[\"ele\"] in list_associated_elements) and i[\"EL\"]!=k[\"ele\"]):\n",
    "                flag_exclude = True\n",
    "        if (flag_exclude):\n",
    "            continue\n",
    "        cnt+=1\n",
    "        \n",
    "        elelist = j[\"elelist\"]\n",
    "        association_pattern = j[\"association_pattern\"]\n",
    "        formulaAdd = j[\"formulaAdd\"]\n",
    "        amass_add = j[\"amass_add\"]\n",
    "        abund_prod = j[\"abund_prod\"]\n",
    "        numPrim = 1\n",
    "        for kdx,k in enumerate(items):\n",
    "            if (i[\"EL\"]==k[\"ele\"]):\n",
    "                numPrim = k[\"num\"]\n",
    "        \n",
    "        all_mass_database.append({\"tag\":(\"ame20exp\" if i[\"is_ex_M\"]==1 else \"ame20extr\"),\"formula\":formula,\"iso\":\"<sup>\"+str(i[\"N\"]+i[\"Z\"])+\"</sup>\"+i[\"EL\"]+((\"<sub>\"+str(numPrim)+\"</sub>\") if numPrim>1 else \"\")+formulaAdd,\n",
    "                          \"amass_amu\":amass_amu+amass_add,\"damass_amu\":damass_amu,\n",
    "                          \"pattern\":association_pattern,\"abundance\":abund_prod,\n",
    "                          \"primZ\":i[\"Z\"],\"primN\":i[\"N\"],\"primA\":i[\"N\"]+i[\"Z\"],\n",
    "                                  \"primIso\":str(i[\"N\"]+i[\"Z\"])+i[\"EL\"],\"flag_betadecay\": flag_betadecay})\n",
    "\n",
    "print(cnt,cnt2,len(all_mass_database))"
   ]
  },
  {
   "cell_type": "code",
   "execution_count": 344,
   "id": "2dd28251",
   "metadata": {
    "scrolled": false
   },
   "outputs": [
    {
     "name": "stdout",
     "output_type": "stream",
     "text": [
      "{'tag': 'ame20extr', 'formula': 'ClLiO', 'iso': '<sup>3</sup>Li<sup>35</sup>Cl<sup>16</sup>O', 'amass_amu': 53.994542299559996, 'damass_amu': 0.002147, 'pattern': 136, 'abundance': 0.755759032, 'primZ': 3, 'primN': 0, 'primA': 3, 'primIso': '3Li', 'flag_betadecay': 1}\n",
      "{'tag': 'ame20extr', 'formula': 'ClLiO', 'iso': '<sup>3</sup>Li<sup>37</sup>Cl<sup>16</sup>O', 'amass_amu': 55.99159220956, 'damass_amu': 0.002147, 'pattern': 136, 'abundance': 0.241810968, 'primZ': 3, 'primN': 0, 'primA': 3, 'primIso': '3Li', 'flag_betadecay': 1}\n",
      "{'tag': 'ame20extr', 'formula': 'LiN', 'iso': '<sup>3</sup>Li<sup>14</sup>N', 'amass_amu': 17.0338490048, 'damass_amu': 0.002147, 'pattern': 4, 'abundance': 0.99636, 'primZ': 3, 'primN': 0, 'primA': 3, 'primIso': '3Li', 'flag_betadecay': 1}\n",
      "{'tag': 'ame20extr', 'formula': 'FLiO', 'iso': '<sup>3</sup>Li<sup>19</sup>F<sup>16</sup>O', 'amass_amu': 38.02409283956, 'damass_amu': 0.002147, 'pattern': 24, 'abundance': 0.99757, 'primZ': 3, 'primN': 0, 'primA': 3, 'primIso': '3Li', 'flag_betadecay': 1}\n",
      "{'tag': 'ame20extr', 'formula': 'LiNO', 'iso': '<sup>3</sup>Li<sup>14</sup>N<sup>16</sup>O', 'amass_amu': 33.028763624359996, 'damass_amu': 0.002147, 'pattern': 12, 'abundance': 0.9939388452, 'primZ': 3, 'primN': 0, 'primA': 3, 'primIso': '3Li', 'flag_betadecay': 1}\n",
      "{'tag': 'ame20extr', 'formula': 'CLi4', 'iso': '<sup>3</sup>Li<sub>4</sub><sup>12</sup>C', 'amass_amu': 15.030775, 'damass_amu': 0.002147, 'pattern': 2, 'abundance': 0.9893, 'primZ': 3, 'primN': 0, 'primA': 3, 'primIso': '3Li', 'flag_betadecay': 1}\n",
      "{'tag': 'ame20extr', 'formula': 'CLi4', 'iso': '<sup>3</sup>Li<sub>4</sub><sup>13</sup>C', 'amass_amu': 16.034129837800002, 'damass_amu': 0.002147, 'pattern': 2, 'abundance': 0.0107, 'primZ': 3, 'primN': 0, 'primA': 3, 'primIso': '3Li', 'flag_betadecay': 1}\n",
      "{'tag': 'ame20extr', 'formula': 'FLi2', 'iso': '<sup>3</sup>Li<sub>2</sub><sup>19</sup>F', 'amass_amu': 22.02917822, 'damass_amu': 0.002147, 'pattern': 16, 'abundance': 1.0, 'primZ': 3, 'primN': 0, 'primA': 3, 'primIso': '3Li', 'flag_betadecay': 1}\n",
      "{'tag': 'ame20extr', 'formula': 'CHLiO2', 'iso': '<sup>3</sup>Li<sup>12</sup>C<sup>1</sup>H<sup>16</sup>O<sub>2</sub>', 'amass_amu': 48.02842927119, 'damass_amu': 0.002147, 'pattern': 11, 'abundance': 0.986782507959885, 'primZ': 3, 'primN': 0, 'primA': 3, 'primIso': '3Li', 'flag_betadecay': 1}\n",
      "{'tag': 'ame20extr', 'formula': 'CHLiO2', 'iso': '<sup>3</sup>Li<sup>13</sup>C<sup>1</sup>H<sup>16</sup>O<sub>2</sub>', 'amass_amu': 49.031784108989996, 'damass_amu': 0.002147, 'pattern': 11, 'abundance': 0.010672771490115, 'primZ': 3, 'primN': 0, 'primA': 3, 'primIso': '3Li', 'flag_betadecay': 1}\n",
      "{'tag': 'ame20extr', 'formula': 'ClFLi2', 'iso': '<sup>3</sup>Li<sub>2</sub><sup>35</sup>Cl<sup>19</sup>F', 'amass_amu': 56.998030899999996, 'damass_amu': 0.002147, 'pattern': 144, 'abundance': 0.7576, 'primZ': 3, 'primN': 0, 'primA': 3, 'primIso': '3Li', 'flag_betadecay': 1}\n",
      "{'tag': 'ame20extr', 'formula': 'ClFLi2', 'iso': '<sup>3</sup>Li<sub>2</sub><sup>37</sup>Cl<sup>19</sup>F', 'amass_amu': 58.99508081, 'damass_amu': 0.002147, 'pattern': 144, 'abundance': 0.2424, 'primZ': 3, 'primN': 0, 'primA': 3, 'primIso': '3Li', 'flag_betadecay': 1}\n",
      "{'tag': 'ame20extr', 'formula': 'CHLiO2', 'iso': '<sup>3</sup>Li<sup>12</sup>C<sup>1</sup>H<sup>16</sup>O<sub>2</sub>', 'amass_amu': 48.02842927119, 'damass_amu': 0.002147, 'pattern': 11, 'abundance': 0.986782507959885, 'primZ': 3, 'primN': 0, 'primA': 3, 'primIso': '3Li', 'flag_betadecay': 1}\n",
      "{'tag': 'ame20extr', 'formula': 'CHLiO2', 'iso': '<sup>3</sup>Li<sup>13</sup>C<sup>1</sup>H<sup>16</sup>O<sub>2</sub>', 'amass_amu': 49.031784108989996, 'damass_amu': 0.002147, 'pattern': 11, 'abundance': 0.010672771490115, 'primZ': 3, 'primN': 0, 'primA': 3, 'primIso': '3Li', 'flag_betadecay': 1}\n",
      "{'tag': 'ame20extr', 'formula': 'LiO4', 'iso': '<sup>3</sup>Li<sup>16</sup>O<sub>4</sub>', 'amass_amu': 67.01043347824, 'damass_amu': 0.002147, 'pattern': 8, 'abundance': 0.99757, 'primZ': 3, 'primN': 0, 'primA': 3, 'primIso': '3Li', 'flag_betadecay': 1}\n",
      "{'tag': 'ame20extr', 'formula': 'CLi3', 'iso': '<sup>3</sup>Li<sub>3</sub><sup>12</sup>C', 'amass_amu': 15.030775, 'damass_amu': 0.002147, 'pattern': 2, 'abundance': 0.9893, 'primZ': 3, 'primN': 0, 'primA': 3, 'primIso': '3Li', 'flag_betadecay': 1}\n",
      "{'tag': 'ame20extr', 'formula': 'CLi3', 'iso': '<sup>3</sup>Li<sub>3</sub><sup>13</sup>C', 'amass_amu': 16.034129837800002, 'damass_amu': 0.002147, 'pattern': 2, 'abundance': 0.0107, 'primZ': 3, 'primN': 0, 'primA': 3, 'primIso': '3Li', 'flag_betadecay': 1}\n",
      "{'tag': 'ame20extr', 'formula': 'ClLi', 'iso': '<sup>3</sup>Li<sup>35</sup>Cl', 'amass_amu': 37.999627679999996, 'damass_amu': 0.002147, 'pattern': 128, 'abundance': 0.7576, 'primZ': 3, 'primN': 0, 'primA': 3, 'primIso': '3Li', 'flag_betadecay': 1}\n",
      "{'tag': 'ame20extr', 'formula': 'ClLi', 'iso': '<sup>3</sup>Li<sup>37</sup>Cl', 'amass_amu': 39.99667759, 'damass_amu': 0.002147, 'pattern': 128, 'abundance': 0.2424, 'primZ': 3, 'primN': 0, 'primA': 3, 'primIso': '3Li', 'flag_betadecay': 1}\n",
      "{'tag': 'ame20extr', 'formula': 'HLi', 'iso': '<sup>3</sup>Li<sup>1</sup>H', 'amass_amu': 4.038600032070001, 'damass_amu': 0.002147, 'pattern': 1, 'abundance': 0.999885, 'primZ': 3, 'primN': 0, 'primA': 3, 'primIso': '3Li', 'flag_betadecay': 1}\n",
      "{'tag': 'ame20extr', 'formula': 'FLi', 'iso': '<sup>3</sup>Li<sup>19</sup>F', 'amass_amu': 22.02917822, 'damass_amu': 0.002147, 'pattern': 16, 'abundance': 1.0, 'primZ': 3, 'primN': 0, 'primA': 3, 'primIso': '3Li', 'flag_betadecay': 1}\n",
      "{'tag': 'ame20extr', 'formula': 'ClLiO4', 'iso': '<sup>3</sup>Li<sup>35</sup>Cl<sup>16</sup>O<sub>4</sub>', 'amass_amu': 101.97928615824, 'damass_amu': 0.002147, 'pattern': 136, 'abundance': 0.755759032, 'primZ': 3, 'primN': 0, 'primA': 3, 'primIso': '3Li', 'flag_betadecay': 1}\n",
      "{'tag': 'ame20extr', 'formula': 'ClLiO4', 'iso': '<sup>3</sup>Li<sup>37</sup>Cl<sup>16</sup>O<sub>4</sub>', 'amass_amu': 103.97633606824, 'damass_amu': 0.002147, 'pattern': 136, 'abundance': 0.241810968, 'primZ': 3, 'primN': 0, 'primA': 3, 'primIso': '3Li', 'flag_betadecay': 1}\n",
      "{'tag': 'ame20exp', 'formula': 'He', 'iso': '<sup>4</sup>He', 'amass_amu': 4.00260325413, 'damass_amu': 1.6000000000000002e-10, 'pattern': 0, 'abundance': 1.0, 'primZ': 2, 'primN': 2, 'primA': 4, 'primIso': '4He', 'flag_betadecay': 0}\n",
      "{'tag': 'ame20exp', 'formula': 'Li', 'iso': '<sup>4</sup>Li', 'amass_amu': 4.027185561, 'damass_amu': 0.00022773299999999998, 'pattern': 0, 'abundance': 1.0, 'primZ': 3, 'primN': 1, 'primA': 4, 'primIso': '4Li', 'flag_betadecay': 1}\n",
      "{'tag': 'ame20exp', 'formula': 'LiNO3', 'iso': '<sup>4</sup>Li<sup>14</sup>N<sup>16</sup>O<sub>3</sub>', 'amass_amu': 66.01500342448, 'damass_amu': 0.00022773299999999998, 'pattern': 12, 'abundance': 0.9939388452, 'primZ': 3, 'primN': 1, 'primA': 4, 'primIso': '4Li', 'flag_betadecay': 1}\n",
      "{'tag': 'ame20exp', 'formula': 'LiNO3', 'iso': '<sup>4</sup>Li<sup>14</sup>N<sup>16</sup>O<sub>3</sub>', 'amass_amu': 66.01500342448, 'damass_amu': 0.00022773299999999998, 'pattern': 12, 'abundance': 0.9939388452, 'primZ': 3, 'primN': 1, 'primA': 4, 'primIso': '4Li', 'flag_betadecay': 1}\n",
      "{'tag': 'ame20exp', 'formula': 'LiO2', 'iso': '<sup>4</sup>Li<sup>16</sup>O<sub>2</sub>', 'amass_amu': 36.017014800119995, 'damass_amu': 0.00022773299999999998, 'pattern': 8, 'abundance': 0.99757, 'primZ': 3, 'primN': 1, 'primA': 4, 'primIso': '4Li', 'flag_betadecay': 1}\n",
      "{'tag': 'ame20exp', 'formula': 'LiNO', 'iso': '<sup>4</sup>Li<sup>14</sup>N<sup>16</sup>O', 'amass_amu': 34.02517418536, 'damass_amu': 0.00022773299999999998, 'pattern': 12, 'abundance': 0.9939388452, 'primZ': 3, 'primN': 1, 'primA': 4, 'primIso': '4Li', 'flag_betadecay': 1}\n",
      "{'tag': 'ame20exp', 'formula': 'LiO', 'iso': '<sup>4</sup>Li<sup>16</sup>O', 'amass_amu': 20.02210018056, 'damass_amu': 0.00022773299999999998, 'pattern': 8, 'abundance': 0.99757, 'primZ': 3, 'primN': 1, 'primA': 4, 'primIso': '4Li', 'flag_betadecay': 1}\n",
      "{'tag': 'ame20exp', 'formula': 'HLi2', 'iso': '<sup>4</sup>Li<sub>2</sub><sup>1</sup>H', 'amass_amu': 5.03501059307, 'damass_amu': 0.00022773299999999998, 'pattern': 1, 'abundance': 0.999885, 'primZ': 3, 'primN': 1, 'primA': 4, 'primIso': '4Li', 'flag_betadecay': 1}\n",
      "{'tag': 'ame20exp', 'formula': 'HLiO', 'iso': '<sup>4</sup>Li<sup>1</sup>H<sup>16</sup>O', 'amass_amu': 21.029925212629998, 'damass_amu': 0.00022773299999999998, 'pattern': 9, 'abundance': 0.99745527945, 'primZ': 3, 'primN': 1, 'primA': 4, 'primIso': '4Li', 'flag_betadecay': 1}\n",
      "{'tag': 'ame20exp', 'formula': 'HLiO', 'iso': '<sup>4</sup>Li<sup>1</sup>H<sup>16</sup>O', 'amass_amu': 21.029925212629998, 'damass_amu': 0.00022773299999999998, 'pattern': 9, 'abundance': 0.99745527945, 'primZ': 3, 'primN': 1, 'primA': 4, 'primIso': '4Li', 'flag_betadecay': 1}\n",
      "{'tag': 'ame20exp', 'formula': 'ClLiO', 'iso': '<sup>4</sup>Li<sup>35</sup>Cl<sup>16</sup>O', 'amass_amu': 54.99095286056, 'damass_amu': 0.00022773299999999998, 'pattern': 136, 'abundance': 0.755759032, 'primZ': 3, 'primN': 1, 'primA': 4, 'primIso': '4Li', 'flag_betadecay': 1}\n",
      "{'tag': 'ame20exp', 'formula': 'ClLiO', 'iso': '<sup>4</sup>Li<sup>37</sup>Cl<sup>16</sup>O', 'amass_amu': 56.98800277056, 'damass_amu': 0.00022773299999999998, 'pattern': 136, 'abundance': 0.241810968, 'primZ': 3, 'primN': 1, 'primA': 4, 'primIso': '4Li', 'flag_betadecay': 1}\n",
      "{'tag': 'ame20exp', 'formula': 'LiN', 'iso': '<sup>4</sup>Li<sup>14</sup>N', 'amass_amu': 18.0302595658, 'damass_amu': 0.00022773299999999998, 'pattern': 4, 'abundance': 0.99636, 'primZ': 3, 'primN': 1, 'primA': 4, 'primIso': '4Li', 'flag_betadecay': 1}\n",
      "{'tag': 'ame20exp', 'formula': 'FLiO', 'iso': '<sup>4</sup>Li<sup>19</sup>F<sup>16</sup>O', 'amass_amu': 39.02050340056, 'damass_amu': 0.00022773299999999998, 'pattern': 24, 'abundance': 0.99757, 'primZ': 3, 'primN': 1, 'primA': 4, 'primIso': '4Li', 'flag_betadecay': 1}\n",
      "{'tag': 'ame20exp', 'formula': 'LiNO', 'iso': '<sup>4</sup>Li<sup>14</sup>N<sup>16</sup>O', 'amass_amu': 34.02517418536, 'damass_amu': 0.00022773299999999998, 'pattern': 12, 'abundance': 0.9939388452, 'primZ': 3, 'primN': 1, 'primA': 4, 'primIso': '4Li', 'flag_betadecay': 1}\n",
      "{'tag': 'ame20exp', 'formula': 'CLi4', 'iso': '<sup>4</sup>Li<sub>4</sub><sup>12</sup>C', 'amass_amu': 16.027185561, 'damass_amu': 0.00022773299999999998, 'pattern': 2, 'abundance': 0.9893, 'primZ': 3, 'primN': 1, 'primA': 4, 'primIso': '4Li', 'flag_betadecay': 1}\n",
      "{'tag': 'ame20exp', 'formula': 'CLi4', 'iso': '<sup>4</sup>Li<sub>4</sub><sup>13</sup>C', 'amass_amu': 17.0305403988, 'damass_amu': 0.00022773299999999998, 'pattern': 2, 'abundance': 0.0107, 'primZ': 3, 'primN': 1, 'primA': 4, 'primIso': '4Li', 'flag_betadecay': 1}\n"
     ]
    }
   ],
   "source": [
    "for i in all_mass_database[10:50]:\n",
    "    print(i)   "
   ]
  },
  {
   "cell_type": "code",
   "execution_count": 341,
   "id": "447a4c43",
   "metadata": {},
   "outputs": [],
   "source": [
    "import json\n",
    "# dict_dat = {\"table\":all_mass_database[:4]}\n",
    "with open(\"lookuptable_ame20.json\", \"w\") as outfile:\n",
    "    json.dump(all_mass_database, outfile)"
   ]
  },
  {
   "cell_type": "code",
   "execution_count": 336,
   "id": "784e60b8",
   "metadata": {
    "scrolled": false
   },
   "outputs": [],
   "source": [
    "# def productGen(arr, cur=[]):\n",
    "#     if len(arr) < 1: \n",
    "#         yield cur\n",
    "#     else:\n",
    "#         for item in arr[0]:\n",
    "#             yield from productGen(arr[1:], [*cur, item])\n",
    "# # i = 0\n",
    "# associated_elements_sort = []\n",
    "# for i in associated_elements:\n",
    "#     associated_elements_sort.append(associated_elements[i])\n",
    "# for combo in productGen(associated_elements_sort):\n",
    "#     print(combo)\n",
    "#     cnt+=1\n",
    "#     if (cnt>1):\n",
    "#         break"
   ]
  },
  {
   "cell_type": "code",
   "execution_count": null,
   "id": "0a3ad7bd",
   "metadata": {},
   "outputs": [],
   "source": [
    "var me = 548579.909065e-9;\n",
    "var sqrtterm = (tof_in-tofoffset)/(aval+bval*lval);\n",
    "var mass = sqrtterm*sqrtterm*chargestate+me*chargestate;"
   ]
  }
 ],
 "metadata": {
  "kernelspec": {
   "display_name": "venv",
   "language": "python",
   "name": "venv"
  },
  "language_info": {
   "codemirror_mode": {
    "name": "ipython",
    "version": 3
   },
   "file_extension": ".py",
   "mimetype": "text/x-python",
   "name": "python",
   "nbconvert_exporter": "python",
   "pygments_lexer": "ipython3",
   "version": "3.6.8"
  }
 },
 "nbformat": 4,
 "nbformat_minor": 5
}

{
 "cells": [
  {
   "cell_type": "code",
   "execution_count": 1,
   "id": "4d4c1c0a",
   "metadata": {},
   "outputs": [
    {
     "name": "stdout",
     "output_type": "stream",
     "text": [
      "Welcome to JupyROOT 6.24/06\n"
     ]
    }
   ],
   "source": [
    "from __future__ import print_function\n",
    "import struct\n",
    "import numpy as np\n",
    "import math\n",
    "import sys\n",
    "import ROOT\n",
    "import array\n",
    "import matplotlib.pyplot as plt\n",
    "\n",
    "import matplotlib.pylab as pltt\n",
    "from mpl_toolkits.axes_grid1 import make_axes_locatable\n",
    "from matplotlib.colors import LogNorm\n",
    "from matplotlib.patches import Ellipse,Arrow\n",
    "from matplotlib.ticker import MaxNLocator\n",
    "from matplotlib.ticker import (MultipleLocator, AutoMinorLocator)\n",
    "\n",
    "import matplotlib\n",
    "font = {'family' : 'Times New Roman',\n",
    "        'weight' : 'normal',\n",
    "        'size'   : 36}\n",
    "matplotlib.rc('font', **font)\n",
    "import matplotlib.font_manager as font_manager\n"
   ]
  },
  {
   "cell_type": "markdown",
   "id": "de40d668",
   "metadata": {},
   "source": [
    "### Commond abbreviation and conversion equations:"
   ]
  },
  {
   "cell_type": "markdown",
   "id": "115fe30a",
   "metadata": {},
   "source": [
    "| nuc | Nuclear mass (u) | Mass excess (keV) | Binding energy (/A) keV | Atomic mass (u) |\n",
    "|:---|:-----------------:|:-----------------------:|:---------------:|:---------------:|\n",
    "|  | $\\mathrm{M_{n}(A,Z)}$ | $\\mathrm{ME_{n}(A,Z)}$ | $\\mathrm{B_{n}(A,Z)}$ | $\\mathrm{M_{a}(A,Z)}$ | \n",
    "| n  | x | 8071.31806      | 0 | 1.00866491590 |\n",
    "| 13C6  | x | 3125.00933   | 7469.8495 | 13.00335483534 |\n",
    "| 16O8  | x | -4737.00217   | 7976.2072 | 15.99491461926 |\n",
    "\n",
    "13 003354.83534\n",
    "\n",
    "- 1 a.m.u unit (physics.nist.gov CODATA and AME2022):\n",
    "\n",
    "$$\n",
    "u_{1} = 931494.10242 \\pm 0.00028 \\;keV\n",
    "$$\n",
    "\n",
    "\n",
    "- Atomic unit to keV conversion:\n",
    "\n",
    "$$\n",
    "\\mathrm{M_{n}(A,Z)} (in\\;keV) = u_{1} \\times  \\mathrm{M_{n}(A,Z)} (in\\;u)\n",
    "$$\n",
    "\n",
    "- Mass excess from atomic mass $M_{a}(A,Z)$ (in u):\n",
    "$$\n",
    "ME_{a}(A,Z) (in\\;keV) = u_{1} \\times (M_{a}(A,Z) (in\\;u) - A)\n",
    "$$\n",
    "\n",
    "- Nuclear mass from atomic mass $M_{a}(A,Z)$ (in u):\n",
    "\n",
    "$$\n",
    "M_{n}(A,Z) = M_{a}(A,Z) - Z \\times m_{e} + B_{e}(Z)\n",
    "$$\n",
    "\n",
    "with\n",
    "$$\n",
    "B_{e}(Z) = (14.4381 Z^{2.39} + 1.55468 \\times 10^{-6} Z^{5.35})\\times 10^{-3} / u_{1}\\;u\n",
    "$$\n",
    "\n",
    "and\n",
    "$$\n",
    "m_{e} = (510.99895000 \\pm 0.000000015) / u_{1} \\;u\n",
    "$$\n",
    "\n",
    "- Binding energy per nucleon from atomic mass  \\$M_{a}(A,Z)$ (in u):\n",
    "\n",
    "$$\n",
    "B(A,Z)/A (in\\;keV) = 1/A[Z \\times ME_{a}(^{1}H) + N \\times ME_{a}(neutron) - ME_{a}(A,Z)]\n",
    "$$\n",
    "\n",
    "with\n",
    "$$\n",
    "ME(^{1}H) = 1.007825031898 \\pm 0.000000000473 \\;u\n",
    "$$\n",
    "\n",
    "and\n",
    "\n",
    "$$\n",
    "ME(neutron) = 1.008664915904 \\pm 0.000000000014 \\;u\n",
    "$$\n",
    "\n",
    "\n",
    "\n",
    "## For FRDM+QRPA 2012\n",
    "\n",
    "[Möller, P., Sierk, A. J., Ichikawa, T., & Sagawa, H. (2016). Nuclear ground-state masses and deformations: FRDM (2012). Atomic Data and Nuclear Data Tables, 109, 1-204.](https://doi.org/10.1016/j.adt.2015.10.002)\n",
    "\n",
    "\n",
    "$$\n",
    "M_{n}(A,Z) = M_{a}(A,Z) - Z \\times m_{e} + a_{el} \\times Z^{2.39}\n",
    "$$\n",
    "\n",
    "$$\n",
    "a_{el}= 0.01433\\;keV\n",
    "$$\n",
    "\n",
    "\n",
    "$$\n",
    "m_{e}= 510.99906\\;keV\n",
    "$$\n",
    "\n",
    "$$\n",
    "E_{bind}(Z,N) = ZM_{n}(proton) + NM_{n}(neutron) - M_{n}(Z,N) = Z(ME_{H}+1 - m_{e}+a_{el})+N(ME_{H}+1)-(ME_{n}(Z,N)+Z+N)\n",
    "$$\n",
    "\n",
    "$$\n",
    "1\\;u = 931501.4\\;keV\n",
    "$$\n",
    "\n",
    "$$\n",
    "ME_{H} = 7289.034\\;keV = 7289.034/931501.4\\;u\n",
    "$$\n",
    "\n",
    "\n",
    "$$\n",
    "ME_{n} = 8071.431\\;keV = 8071.431/931501.4\\;u\n",
    "$$\n",
    "\n",
    "- Example of the FRDM prediction:\n",
    "\n",
    "$$\n",
    "M_{th}(^{16}O) = -5.15\\;MeV \n",
    "$$\n",
    "\n",
    "$$\n",
    "E_{bind (th)}(^{16}O) = 128.03\\;MeV \n",
    "$$"
   ]
  },
  {
   "cell_type": "code",
   "execution_count": 2,
   "id": "3ad1cfbb",
   "metadata": {},
   "outputs": [],
   "source": [
    "u1 = 931494.10242\n",
    "def amass_to_nmass_keV(amass,Z):\n",
    "    u1 = 931494.10242\n",
    "    meu = 0.000548579909065\n",
    "    meKeV = 510.99895000\n",
    "    Be = (14.4381*(Z**2.39)+1.55468e-6*(Z**5.35))*1e-3\n",
    "    nmass = amass*u1-Z*meKeV+Be*Z\n",
    "    return nmass\n",
    "\n",
    "def amass_to_mass_excess_keV(amass,A):\n",
    "    u1 = 931494.10242\n",
    "    return (amass - A)*u1\n",
    "\n",
    "def amass_to_binding_ene_per_A_keV_way1(amass,Z,A):\n",
    "    u1 = 931494.10242\n",
    "    neumass = 1.008664915904\n",
    "    pmass =   1.007276466588\n",
    "    return (neumass*(A-Z) + pmass*Z - amass_to_nmass_keV(amass,Z)/u1)*u1/A\n",
    "\n",
    "def amass_to_binding_ene_per_A_keV(amass,Z,A):\n",
    "    u1 = 931494.10242\n",
    "    neumass = 1.008664915904\n",
    "    h1mass = 1.007825031898\n",
    "    return (neumass*(A-Z) + h1mass*Z - amass)*u1/A\n",
    "\n",
    "def FRDM_massecess_keV_to_binding_ene_keV(massexcess,Z,A):\n",
    "    u1 = 931501.4\n",
    "    me_H = 7.289034e3\n",
    "    me_n = 8.071431e3\n",
    "    melectron = 510.99906\n",
    "    ael = 1.433e-2\n",
    "    return ((me_n/u1+1)*(A-Z)*u1 + (me_H/u1+1-melectron/u1+ael/u1)*Z*u1 - (massexcess+A*u1 - Z*melectron+ael*Z**2.39) )\n",
    "\n",
    "\n",
    "def mass_excess_keV_to_amass(mass_excess,A):\n",
    "    u1 = 931494.10242\n",
    "    return mass_excess/u1 + A\n"
   ]
  },
  {
   "cell_type": "code",
   "execution_count": 3,
   "id": "83d34926",
   "metadata": {},
   "outputs": [
    {
     "name": "stdout",
     "output_type": "stream",
     "text": [
      "8071.318058815352\n"
     ]
    }
   ],
   "source": [
    "print(amass_to_mass_excess_keV(1.00866491590,1))"
   ]
  },
  {
   "cell_type": "code",
   "execution_count": 4,
   "id": "0c4578aa",
   "metadata": {},
   "outputs": [
    {
     "name": "stdout",
     "output_type": "stream",
     "text": [
      "3125.009333799912\n"
     ]
    }
   ],
   "source": [
    "print(amass_to_mass_excess_keV(13.00335483534,13))"
   ]
  },
  {
   "cell_type": "code",
   "execution_count": 5,
   "id": "3c69da00",
   "metadata": {},
   "outputs": [
    {
     "name": "stdout",
     "output_type": "stream",
     "text": [
      "13.00335483534\n"
     ]
    }
   ],
   "source": [
    "print(mass_excess_keV_to_amass(3125.009333799912,13))"
   ]
  },
  {
   "cell_type": "code",
   "execution_count": 6,
   "id": "8ed4f4d5",
   "metadata": {},
   "outputs": [
    {
     "name": "stdout",
     "output_type": "stream",
     "text": [
      "7469.849499184584\n"
     ]
    }
   ],
   "source": [
    "print(amass_to_binding_ene_per_A_keV(13.00335483534,6,13))"
   ]
  },
  {
   "cell_type": "code",
   "execution_count": 7,
   "id": "5a43e45f",
   "metadata": {},
   "outputs": [
    {
     "name": "stdout",
     "output_type": "stream",
     "text": [
      "-4737.002167870856\n"
     ]
    }
   ],
   "source": [
    "print(amass_to_mass_excess_keV(15.99491461926,16))"
   ]
  },
  {
   "cell_type": "code",
   "execution_count": 8,
   "id": "cbd68157",
   "metadata": {},
   "outputs": [
    {
     "name": "stdout",
     "output_type": "stream",
     "text": [
      "7976.207198880236\n"
     ]
    }
   ],
   "source": [
    "print(amass_to_binding_ene_per_A_keV(15.99491461926,8,16))"
   ]
  },
  {
   "cell_type": "code",
   "execution_count": 9,
   "id": "601794d0",
   "metadata": {},
   "outputs": [
    {
     "name": "stdout",
     "output_type": "stream",
     "text": [
      "128031.77101272531\n"
     ]
    }
   ],
   "source": [
    "print(FRDM_massecess_keV_to_binding_ene_keV(-5150,8,16))"
   ]
  },
  {
   "cell_type": "markdown",
   "id": "7caa9ded",
   "metadata": {},
   "source": [
    "### AME mass table 2020"
   ]
  },
  {
   "cell_type": "code",
   "execution_count": 10,
   "id": "caa341cf",
   "metadata": {},
   "outputs": [],
   "source": [
    "ame = np.load(\"ame/all_ame20.npy\",allow_pickle='TRUE')"
   ]
  },
  {
   "cell_type": "code",
   "execution_count": 11,
   "id": "680c5841",
   "metadata": {},
   "outputs": [
    {
     "name": "stdout",
     "output_type": "stream",
     "text": [
      "89.90772787 1.555e-06 -85950.9449127295 1.4484733292631 -85950.945 1.449\n"
     ]
    }
   ],
   "source": [
    "for idx,i in enumerate(ame):\n",
    "    if (i[\"A\"]==90 and i[\"Z\"]==38):\n",
    "        mass_amu = i[\"A2\"]+i[\"AM\"]*1e-6\n",
    "        dmass_amu = i[\"DAM\"]*1e-6\n",
    "        print(mass_amu,dmass_amu,amass_to_mass_excess_keV(i[\"A2\"]+i[\"AM\"]*1e-6,i[\"A\"]),dmass_amu*u1,i[\"M\"],i[\"DM\"])"
   ]
  },
  {
   "cell_type": "markdown",
   "id": "ba03013d",
   "metadata": {},
   "source": [
    "# TOF to mass conversion\n",
    "\n",
    "- Observe TOF as a function of masses:\n",
    "\n",
    "$$\n",
    "t_{obs} = (a+b\\cdot l) (m/q)^{1/2} +t_{0}\n",
    "$$\n",
    "\n",
    "where: $a$ and $b$ are constants related to non-reflection and flight path in MRTOF, $l$ is the *number of laps*,  **$m$ is the ionic mass** and $t_{0}$ is the TOF offset.\n",
    "\n",
    "## Double referencing:\n",
    "\n",
    "- Assuming we have two reference ion species (1,2) and one measured ion species:\n",
    "\n",
    "(1):\n",
    "$$\n",
    "t_{1} = (a+b\\cdot l) (m_{1}/q_{1})^{1/2} +t_{0}\n",
    "$$\n",
    "\n",
    "(2):\n",
    "$$\n",
    "t_{2} = (a+b\\cdot l) (m_{2}/q_{2})^{1/2} +t_{0}\n",
    "$$\n",
    "\n",
    "(3):\n",
    "$$\n",
    "t = (a+b\\cdot l) (m/q)^{1/2} +t_{0}\n",
    "$$\n",
    "\n",
    "- $2 \\times (3) - (1) - (2)$  gives (4):\n",
    "\n",
    "$$\n",
    "2t-t_{1}-t_{2} = (a+b\\cdot l)[2(m/q)^{1/2}-(m_{1}/q_{1})^{1/2}-(m_{2}/q_{2})^{1/2}]\n",
    "$$\n",
    "\n",
    "- $(1) - (2)$  gives (5):\n",
    "\n",
    "$$\n",
    "t_{1}-t_{2} = (a+b\\cdot l)[(m_{1}/q_{1})^{1/2}-(m_{2}/q_{2})^{1/2}]\n",
    "$$\n",
    "\n",
    "- Or (6):\n",
    "\n",
    "$$\n",
    "(a+b\\cdot l) = (t_{1}-t_{2}) / [(m_{1}/q_{1})^{1/2}-(m_{2}/q_{2})^{1/2}]\n",
    "$$\n",
    "\n",
    "- Combine (4) and (6) gives (7):\n",
    "\n",
    "\n",
    "$$\n",
    "\\frac{2t-t_{1}-t_{2}}{(t_{1}-t_{2})} =  \\frac{2(m/q)^{1/2}-(m_{1}/q_{1})^{1/2}-(m_{2}/q_{2})^{1/2}}{(m_{1}/q_{1})^{1/2}-(m_{2}/q_{2})^{1/2}}\n",
    "$$\n",
    "\n",
    "- Or (8): \n",
    "\n",
    "$$\n",
    "C_{TOF} = \\frac{2t-t_{1}-t_{2}}{2(t_{1}-t_{2})} =  \\frac{(m/q)^{1/2}-[(m_{1}/q_{1})^{1/2}+(m_{2}/q_{2})^{1/2}]/2}{(m_{1}/q_{1})^{1/2}-(m_{2}/q_{2})^{1/2}}\n",
    "$$\n",
    "\n"
   ]
  },
  {
   "cell_type": "markdown",
   "id": "9c33da9c",
   "metadata": {},
   "source": [
    "- Then (9):\n",
    "\n",
    "$$\n",
    " (m/q)^{1/2} = C_{TOF}[(m_{1}/q_{1})^{1/2}-(m_{2}/q_{2})^{1/2}]+[(m_{1}/q_{1})^{1/2}+(m_{2}/q_{2})^{1/2}]/2\n",
    "$$\n"
   ]
  },
  {
   "cell_type": "markdown",
   "id": "68ec64f3",
   "metadata": {},
   "source": [
    "## Single referencing:\n",
    "\n",
    "- Assuming we have one reference ion species (ref) and one measured ion species:\n",
    "\n",
    "(10):\n",
    "$$\n",
    "t_{ref} - t_{0} = (a+b\\cdot l) (m_{ref}/q_{ref})^{1/2}\n",
    "$$\n",
    "\n",
    "(11):\n",
    "$$\n",
    "t - t_{0} = (a+b\\cdot l) (m/q)^{1/2}\n",
    "$$\n",
    "\n",
    "- $(11)/(10)$ gives (12):\n",
    "$$\n",
    "\\frac{t - t_{0}}{t_{ref} - t_{0}} = \\frac{(m/q)^{1/2}}{(m_{ref}/q_{ref})^{1/2}}\n",
    "$$\n",
    "\n",
    "- Or (13):\n",
    "$$\n",
    "(m/q) = \\left (\\frac{t - t_{0}}{t_{ref} - t_{0}} \\right )^{2} (m_{ref}/q_{ref})\n",
    "$$\n",
    "\n"
   ]
  },
  {
   "cell_type": "markdown",
   "id": "c48f41c7",
   "metadata": {},
   "source": [
    "## Summary for a simplied scenario: Asssuming reference ions and measured ions have same charge states\n",
    "\n",
    "- ### Single referencing:\n",
    "$$\n",
    "m = \\left (\\frac{t - t_{0}}{t_{ref} - t_{0}} \\right )^{2} m_{ref}\n",
    "$$\n",
    "\n",
    "- ### Double referencing:\n",
    "$$\n",
    "m = \\left ( C_{TOF}(m_{1}^{1/2}-m_{2}^{1/2})+(m_{1}^{1/2}+m_{2}^{1/2})/2 \\right )^{2}\n",
    "$$\n",
    "where\n",
    "$$\n",
    "C_{TOF} = \\frac{2t-t_{1}-t_{2}}{2(t_{1}-t_{2})}\n",
    "$$\n",
    "\n",
    "- Note that **$m$ is the ionic mass** for reference and measured ions. We need to derive it from the atomic mass having electrons (how about binding energy of electron?)\n",
    "\n",
    "$$\n",
    "M = m + q \\times m_{e}\n",
    "$$\n",
    "\n",
    "$$\n",
    "m_{ref} = M_{ref} - q \\times m_{e}\n",
    "$$\n",
    "\n",
    "$$\n",
    "m_{1} = M_{1}  -q \\times m_{e}\n",
    "$$\n",
    "\n",
    "$$\n",
    "m_{2} = M_{2} - q \\times m_{e}\n",
    "$$\n",
    "\n",
    "Where: \n",
    "\n",
    "- $M_{ref}$, $M_{1}$ and $M_{2}$ is the atomic mass of the reference ion species, taken from latest AME database (AME2020) in a.m.u\n",
    "\n",
    "- $m_{e}$ is the electron rest mass, taken from latest AME database (AME2020) in a.m.u as:\n",
    "$$\n",
    "m_{e} = 548579.909065 \\times 10^{-9} \\pm 0.000016 \\times 10^{-9} \\;u\n",
    "$$\n",
    "\n",
    "- Or alternatively:\n",
    "$$\n",
    "m_{e} = (510.99895000 \\pm 0.000000015) / u_{1} \\;u\n",
    "$$\n",
    "\n",
    "$$\n",
    "u_{1} = 931494.10242 \\pm 0.00028 \\;keV\n",
    "$$"
   ]
  },
  {
   "cell_type": "code",
   "execution_count": null,
   "id": "2582a2a7",
   "metadata": {},
   "outputs": [],
   "source": []
  },
  {
   "cell_type": "code",
   "execution_count": null,
   "id": "f130b095",
   "metadata": {},
   "outputs": [],
   "source": []
  }
 ],
 "metadata": {
  "kernelspec": {
   "display_name": "Python 3 (ipykernel)",
   "language": "python",
   "name": "python3"
  },
  "language_info": {
   "codemirror_mode": {
    "name": "ipython",
    "version": 3
   },
   "file_extension": ".py",
   "mimetype": "text/x-python",
   "name": "python",
   "nbconvert_exporter": "python",
   "pygments_lexer": "ipython3",
   "version": "3.9.7"
  }
 },
 "nbformat": 4,
 "nbformat_minor": 5
}

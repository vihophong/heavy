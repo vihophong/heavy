{
 "cells": [
  {
   "cell_type": "code",
   "execution_count": 1,
   "metadata": {},
   "outputs": [],
   "source": [
    "import requests\n",
    "import json\n",
    "from bs4 import BeautifulSoup\n",
    "from datetime import date\n",
    "import time\n",
    "import logging\n",
    "import copy"
   ]
  },
  {
   "cell_type": "code",
   "execution_count": 2,
   "metadata": {},
   "outputs": [],
   "source": [
    "# fetching new data\n",
    "today = date.today()\n",
    "d1 = today.strftime(\"%y%m%d\")\n",
    "# print(d1)\n",
    "outdata = requests.get('https://www.nndc.bnl.gov/nudat3/data/output.json')\n",
    "outdatajson = json.loads(outdata.text)\n",
    "with open('nudat_indent_'+d1+'.json', 'w') as f:\n",
    "    f.write(json.dumps(outdatajson, indent=2))"
   ]
  },
  {
   "cell_type": "code",
   "execution_count": 3,
   "metadata": {},
   "outputs": [],
   "source": [
    "#Time units according to https://www.nndc.bnl.gov/ensdf/ensdf-manual.pdf\n",
    "time_factors = {'as':0.000000000000000001,'fs':1e-15,\n",
    "               'ps':1e-12, 'ns':0.000000001,'us':0.000001,'ms': 0.001,\n",
    "               's':1.,'m' : 60.,'h': 3600.,'d' : 86400.,'y':31536000., 'ky' : 31536000000}"
   ]
  },
  {
   "cell_type": "code",
   "execution_count": 4,
   "metadata": {
    "scrolled": false
   },
   "outputs": [
    {
     "name": "stdout",
     "output_type": "stream",
     "text": [
      "{'value': '1.55', 'unit': 'MeV', 'uncertaintySTD': '0.44'} {'value': None, 'uncertaintySTD': None} {'value': None, 'uncertaintySTD': None}\n"
     ]
    }
   ],
   "source": [
    "def extract_pxn(nuc):\n",
    "    outdata = requests.get('https://www.nndc.bnl.gov/nudat3/getdataset.jsp?nucleus='+nuc+'&unc=STD')\n",
    "    soup = BeautifulSoup(outdata.text, 'html.parser')\n",
    "    t12data = {\"value\":None,\"unit\":None,\"uncertaintySTD\":None}\n",
    "    p1ndata = {\"value\":None,\"uncertaintySTD\":None}\n",
    "    p2ndata = {\"value\":None,\"uncertaintySTD\":None}\n",
    "    p3ndata = {\"value\":None,\"uncertaintySTD\":None}\n",
    "#     print(outdata.text)\n",
    "    capturedata = soup.find_all(\"td\", class_=\"cellc t12\")\n",
    "    if (len(capturedata)>0):\n",
    "        first_lvl_data = capturedata[0]\n",
    "        t12pncontent = first_lvl_data.text\n",
    "        t12pncontent = [t.strip() for t in t12pncontent.split(\"%\")]\n",
    "        t12datastr = t12pncontent[0].split()\n",
    "        if (len(t12datastr)>0):\n",
    "            if (t12datastr[0]!=\">\" and t12datastr[0]!=\"<\"):\n",
    "                t12data = {\"value\":t12datastr[0],\"unit\":t12datastr[1],\"uncertaintySTD\":t12datastr[2]}\n",
    "        for i in t12pncontent:\n",
    "            if (i.find('β-n')>-1):\n",
    "                spldata = i.split()\n",
    "                if (len(spldata)==4):\n",
    "                    p1ndata[\"value\"] = float(spldata[2])\n",
    "                    p1ndata[\"uncertaintySTD\"] = spldata[3]\n",
    "            if (i.find('β-2n')>-1):\n",
    "                spldata = i.split()\n",
    "                if (len(spldata)==4):\n",
    "                    p2ndata[\"value\"] = float(spldata[2])\n",
    "                    p2ndata[\"uncertaintySTD\"] = spldata[3]\n",
    "            if (i.find('β-3n')>-1):\n",
    "                spldata = i.split()\n",
    "                if (len(spldata)==4):\n",
    "                    p3ndata[\"value\"] = float(spldata[2])\n",
    "                    p3ndata[\"uncertaintySTD\"] = spldata[3]\n",
    "    return t12data,p1ndata,p2ndata,p3ndata\n",
    "t12data,p1ndata,p2ndata,p3ndata=extract_pxn('6H')\n",
    "print(t12data,p1ndata,p2ndata)"
   ]
  },
  {
   "cell_type": "code",
   "execution_count": 5,
   "metadata": {
    "scrolled": false
   },
   "outputs": [],
   "source": [
    "with open('nudat_indent_240722.json','r') as f:\n",
    "    nudat3data = json.load(f)\n",
    "\n",
    "open('convert.log', 'w').close()\n",
    "# print(len(nudat3data[\"nuclides\"]))\n",
    "dataout = []\n",
    "for idx,i in enumerate(nudat3data[\"nuclides\"]):\n",
    "    datum = copy.deepcopy(i)\n",
    "    \n",
    "    qValues = i.get(\"qValues\", None)\n",
    "    Qbn = None\n",
    "    if (qValues!=None):\n",
    "        Qbn = qValues.get(\"betaMinusOneNeutronEmission\",None)\n",
    "    if (Qbn!=None):\n",
    "        if (float(Qbn['value'])>0):\n",
    "            time.sleep(2)\n",
    "            with open('convert.log','a') as f:\n",
    "                print(idx,i[\"name\"], file=f)\n",
    "            t12data,p1ndata,p2ndata,p3ndata=extract_pxn(i[\"name\"])\n",
    "            with open('convert.log','a') as f:\n",
    "                print(i[\"name\"],t12data,p1ndata,p2ndata,p3ndata, file=f)\n",
    "            datum[\"t12_web\"] = t12data\n",
    "            datum[\"p1ndata_web\"] = p1ndata\n",
    "            datum[\"p2ndata_web\"] = p2ndata\n",
    "            datum[\"p3ndata_web\"] = p3ndata\n",
    "    dataout.append(datum)"
   ]
  },
  {
   "cell_type": "code",
   "execution_count": 6,
   "metadata": {},
   "outputs": [],
   "source": [
    "import numpy as np\n",
    "np.save(\"nudat3.npy\",dataout)"
   ]
  },
  {
   "cell_type": "code",
   "execution_count": 7,
   "metadata": {
    "scrolled": false
   },
   "outputs": [],
   "source": [
    "# import pandas as pd\n",
    "# df = pd.DataFrame(columns=['name','z','n','a','t12','dt12','p1n','dp1n','p2n','dp2n','p3n','dp3n'])\n",
    "# for idx,i in enumerate(dataout):\n",
    "#     if (i.get(\"levels\", None)!=None):\n",
    "#         if (i.get(\"p1ndata_web\", None)!=None):\n",
    "#             if (i[\"p1ndata_web\"][\"value\"]!=None):\n",
    "#                 print(i[\"name\"])\n",
    "#                 dat = {'name':i['name'],'z':i['z'],'n':i['n'],'a':i['a'],\n",
    "#                       't12':i[\"levels\"][0][\"halflife\"][\"inSeconds\"][\"value\"],\n",
    "#                        'dt12':i[\"levels\"][0][\"halflife\"][\"inSeconds\"][\"uncertainty\"]}\n",
    "#                 df.loc[i['name']] = dat\n",
    "#     else:\n",
    "#         print(i['name'])"
   ]
  },
  {
   "cell_type": "code",
   "execution_count": 8,
   "metadata": {},
   "outputs": [],
   "source": [
    "# print(df)"
   ]
  },
  {
   "cell_type": "code",
   "execution_count": 9,
   "metadata": {},
   "outputs": [
    {
     "name": "stdout",
     "output_type": "stream",
     "text": [
      "{'name': '136Sb', 'z': 51, 'n': 85, 'a': 136, 'bindingEnergy': {'value': '8252.2533', 'unit': 'keV', 'uncertainty': '0.0429', 'formats': {'NDS': '8252.25 4', 'STD': '8.25E+3 4.29E-2'}}, 'bindingEnergyLDMFit': {'value': '-70.41278214603217', 'unit': 'keV', 'uncertainty': '0.0429', 'formats': {'NDS': '-70.41 4', 'STD': '-7.04E+1 4.29E-2'}}, 'pairingGap': {'value': '368.4690999998711', 'unit': 'keV', 'uncertainty': '26.44214877274538', 'formats': {'NDS': '3.7E+2 3', 'STD': '3.68E+2 2.64E+1'}}, 'qValues': {'betaMinus': {'value': '9918.3897', 'unit': 'keV', 'uncertainty': '6.2599', 'formats': {'NDS': '9918 6', 'STD': '9.91E+3 6.25'}}, 'alpha': {'value': '-4520.2518', 'unit': 'keV', 'uncertainty': '60.3149', 'formats': {'NDS': '-4.52E+3 6', 'STD': '-4.52E+3 6.03E+1'}}, 'doubleBetaMinus': {'value': '15038.3351', 'unit': 'keV', 'uncertainty': '15.3390', 'formats': {'NDS': '15038 15', 'STD': '1.50E+4 1.53E+1'}}, 'electronCaptureOneProtonEmission': {'value': '-24686', 'unit': 'keV', 'uncertainty': '300', 'formats': {'NDS': '-2.47E+4 3', 'STD': '-2.46E+4 3.00E+2'}}, 'betaMinusOneNeutronEmission': {'value': '5150.5827', 'unit': 'keV', 'uncertainty': '6.0786', 'formats': {'NDS': '5151 6', 'STD': '5.15E+3 6.07'}}, 'electronCapture': {'value': '-8337.0', 'unit': 'keV', 'uncertainty': '200', 'formats': {'NDS': '-8.34E+3 20', 'STD': '-8.33E+3 2.00E+2'}}, 'positronEmission': {'value': '-9358.9978', 'unit': 'keV', 'uncertainty': '200', 'formats': {'NDS': '-9.36E+3 20', 'STD': '-9.35E+3 2.00E+2'}}, 'betaMinusTwoNeutronEmission': {'value': '1884.2258799999945', 'unit': 'keV', 'uncertainty': '8.244865115597706', 'formats': {'NDS': '1884 8', 'STD': '1.88E+3 8.24'}}, 'deltaAlpha': {'value': '1498.0014', 'unit': 'keV', 'uncertainty': '30.89704682558675', 'formats': {'NDS': '1.50E+3 3', 'STD': '1.49E+3 3.08E+1'}}, 'doubleElectronCapture': {'value': '-23537.0', 'unit': 'keV', 'uncertainty': '300.0', 'formats': {'NDS': '-2.35E+4 3', 'STD': '-2.35E+4 3.00E+2'}}}, 'separationEnergies': {'twoNeutronSeparationEnergy': {'value': '6630.5217', 'unit': 'keV', 'uncertainty': '6.5903', 'formats': {'NDS': '6631 7', 'STD': '6.63E+3 6.59'}}, 'twoProtonSeparationEnergy': {'value': '27115', 'unit': 'keV', 'uncertainty': '200', 'formats': {'NDS': '2.712E+4 20', 'STD': '2.71E+4 2.00E+2'}}, 'neutronSeparationEnergy': {'value': '2887.8754', 'unit': 'keV', 'uncertainty': '6.3996', 'formats': {'NDS': '2888 6', 'STD': '2.88E+3 6.39'}}, 'protonSeparationEnergy': {'value': '11163.6083', 'unit': 'keV', 'uncertainty': '6.5903', 'formats': {'NDS': '11164 7', 'STD': '1.11E+4 6.59'}}}, 'excitedStateEnergies': {'firstExcitedStateEnergy': {'value': '43.4', 'unit': 'keV', 'uncertainty': '0.3', 'formats': {'NDS': '43.4 3', 'STD': '43.4 0.3'}}}, 'fissionYields': {'FY252Cf': {'value': '3.01802E-4', 'uncertainty': '1.93154E-4', 'formats': {'NDS': '3.0E-4 19', 'STD': '3.01E-4 1.93E-4'}}, 'FY235U': {'value': '1.14892E-4', 'uncertainty': '7.35308E-5', 'formats': {'NDS': '1.1E-4 7', 'STD': '1.14E-4 7.35E-5'}}, 'FY239Pu': {'value': '2.92296E-5', 'uncertainty': '1.8707E-5', 'formats': {'NDS': '2.9E-5 19', 'STD': '2.92E-5 1.87E-5'}}}, 'levels': [{'energy': {'value': '0.0', 'unit': 'MeV'}, 'spinAndParity': '1-', 'massExcess': {'value': '-64506.890', 'unit': 'keV', 'uncertainty': '5.830', 'formats': {'NDS': '-64507 6', 'STD': '-6.45E+4 5.83'}}, 'halflife': {'value': '0.923', 'unit': 'S', 'uncertainty': '14', 'formats': {'NDS': '0.923 14', 'STD': '0.923 0.014'}, 'inSeconds': {'value': 0.923, 'uncertainty': 0.014000000000000012}}, 'decayModes': [{'name': 'B-', 'symbol': '=', 'value': '100.00'}, {'name': 'BN', 'symbol': '=', 'value': '16.30'}]}], 'webLinks': ['canGetLH', 'canGetBandPlot', 'hasGammas'], 't12_web': {'value': '0.923', 'unit': 's', 'uncertaintySTD': '0.014'}, 'p1ndata_web': {'value': 18.5, 'uncertaintySTD': '1.8'}, 'p2ndata_web': {'value': None, 'uncertaintySTD': None}, 'p3ndata_web': {'value': None, 'uncertaintySTD': None}}\n"
     ]
    }
   ],
   "source": [
    "for idx,i in enumerate(dataout):\n",
    "    if (i['name']=='136Sb'):\n",
    "        print(i)"
   ]
  },
  {
   "cell_type": "code",
   "execution_count": null,
   "metadata": {},
   "outputs": [],
   "source": []
  }
 ],
 "metadata": {
  "kernelspec": {
   "display_name": "Python 3 (ipykernel)",
   "language": "python",
   "name": "python3"
  },
  "language_info": {
   "codemirror_mode": {
    "name": "ipython",
    "version": 3
   },
   "file_extension": ".py",
   "mimetype": "text/x-python",
   "name": "python",
   "nbconvert_exporter": "python",
   "pygments_lexer": "ipython3",
   "version": "3.9.7"
  }
 },
 "nbformat": 4,
 "nbformat_minor": 2
}

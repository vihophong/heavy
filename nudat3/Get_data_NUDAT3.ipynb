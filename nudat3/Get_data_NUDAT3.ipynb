{
 "cells": [
  {
   "cell_type": "code",
   "execution_count": 159,
   "metadata": {},
   "outputs": [],
   "source": [
    "import requests\n",
    "import json\n",
    "from bs4 import BeautifulSoup\n",
    "from datetime import date\n",
    "import time\n",
    "import logging\n",
    "import copy"
   ]
  },
  {
   "cell_type": "code",
   "execution_count": 60,
   "metadata": {},
   "outputs": [],
   "source": [
    "# fetching new data\n",
    "today = date.today()\n",
    "d1 = today.strftime(\"%y%m%d\")\n",
    "# print(d1)\n",
    "outdata = requests.get('https://www.nndc.bnl.gov/nudat3/data/output.json')\n",
    "outdatajson = json.loads(outdata.text)\n",
    "with open('nudat_indent_'+d1+'.json', 'w') as f:\n",
    "    f.write(json.dumps(outdatajson, indent=2))"
   ]
  },
  {
   "cell_type": "code",
   "execution_count": 62,
   "metadata": {},
   "outputs": [],
   "source": [
    "#Time units according to https://www.nndc.bnl.gov/ensdf/ensdf-manual.pdf\n",
    "time_factors = {'as':0.000000000000000001,'fs':1e-15,\n",
    "               'ps':1e-12, 'ns':0.000000001,'us':0.000001,'ms': 0.001,\n",
    "               's':1.,'m' : 60.,'h': 3600.,'d' : 86400.,'y':31536000., 'ky' : 31536000000}"
   ]
  },
  {
   "cell_type": "code",
   "execution_count": 132,
   "metadata": {
    "scrolled": false
   },
   "outputs": [
    {
     "name": "stdout",
     "output_type": "stream",
     "text": [
      "{'value': '1.55', 'unit': 'MeV', 'uncertaintySTD': '0.44'} {'value': None, 'uncertaintySTD': None} {'value': None, 'uncertaintySTD': None}\n"
     ]
    }
   ],
   "source": [
    "def extract_pxn(nuc):\n",
    "    outdata = requests.get('https://www.nndc.bnl.gov/nudat3/getdataset.jsp?nucleus='+nuc+'&unc=STD')\n",
    "    soup = BeautifulSoup(outdata.text, 'html.parser')\n",
    "    t12data = {\"value\":None,\"unit\":None,\"uncertaintySTD\":None}\n",
    "    p1ndata = {\"value\":None,\"uncertaintySTD\":None}\n",
    "    p2ndata = {\"value\":None,\"uncertaintySTD\":None}\n",
    "    p3ndata = {\"value\":None,\"uncertaintySTD\":None}\n",
    "#     print(outdata.text)\n",
    "    capturedata = soup.find_all(\"td\", class_=\"cellc t12\")\n",
    "    if (len(capturedata)>0):\n",
    "        first_lvl_data = capturedata[0]\n",
    "        t12pncontent = first_lvl_data.text\n",
    "        t12pncontent = [t.strip() for t in t12pncontent.split(\"%\")]\n",
    "        t12datastr = t12pncontent[0].split()\n",
    "        if (len(t12datastr)>0):\n",
    "            if (t12datastr[0]!=\">\" and t12datastr[0]!=\"<\"):\n",
    "                t12data = {\"value\":t12datastr[0],\"unit\":t12datastr[1],\"uncertaintySTD\":t12datastr[2]}\n",
    "        for i in t12pncontent:\n",
    "            if (i.find('β-n')>-1):\n",
    "                spldata = i.split()\n",
    "                if (len(spldata)==4):\n",
    "                    p1ndata[\"value\"] = float(spldata[2])\n",
    "                    p1ndata[\"uncertaintySTD\"] = spldata[3]\n",
    "            if (i.find('β-2n')>-1):\n",
    "                spldata = i.split()\n",
    "                if (len(spldata)==4):\n",
    "                    p2ndata[\"value\"] = float(spldata[2])\n",
    "                    p2ndata[\"uncertaintySTD\"] = spldata[3]\n",
    "            if (i.find('β-3n')>-1):\n",
    "                spldata = i.split()\n",
    "                if (len(spldata)==4):\n",
    "                    p3ndata[\"value\"] = float(spldata[2])\n",
    "                    p3ndata[\"uncertaintySTD\"] = spldata[3]\n",
    "    return t12data,p1ndata,p2ndata,p3ndata\n",
    "t12data,p1ndata,p2ndata,p3ndata=extract_pxn('6H')\n",
    "print(t12data,p1ndata,p2ndata)"
   ]
  },
  {
   "cell_type": "code",
   "execution_count": 134,
   "metadata": {
    "scrolled": false
   },
   "outputs": [],
   "source": [
    "with open('nudat_indent_231116.json','r') as f:\n",
    "    nudat3data = json.load(f)\n",
    "\n",
    "open('convert.log', 'w').close()\n",
    "# print(len(nudat3data[\"nuclides\"]))\n",
    "dataout = []\n",
    "for idx,i in enumerate(nudat3data[\"nuclides\"]):\n",
    "    datum = copy.deepcopy(i)\n",
    "    \n",
    "    qValues = i.get(\"qValues\", None)\n",
    "    Qbn = None\n",
    "    if (qValues!=None):\n",
    "        Qbn = qValues.get(\"betaMinusOneNeutronEmission\",None)\n",
    "    if (Qbn!=None):\n",
    "        if (float(Qbn['value'])>0):\n",
    "            time.sleep(2)\n",
    "            with open('convert.log','a') as f:\n",
    "                print(idx,i[\"name\"], file=f)\n",
    "            t12data,p1ndata,p2ndata,p3ndata=extract_pxn(i[\"name\"])\n",
    "            with open('convert.log','a') as f:\n",
    "                print(i[\"name\"],t12data,p1ndata,p2ndata,p3ndata, file=f)\n",
    "            datum[\"t12_web\"] = t12data\n",
    "            datum[\"p1ndata_web\"] = p1ndata\n",
    "            datum[\"p2ndata_web\"] = p2ndata\n",
    "            datum[\"p3ndata_web\"] = p3ndata\n",
    "    dataout.append(datum)"
   ]
  },
  {
   "cell_type": "code",
   "execution_count": 161,
   "metadata": {},
   "outputs": [],
   "source": [
    "import numpy as np\n",
    "np.save(\"nudat3.npy\",dataout)"
   ]
  },
  {
   "cell_type": "code",
   "execution_count": 162,
   "metadata": {
    "scrolled": false
   },
   "outputs": [],
   "source": [
    "# import pandas as pd\n",
    "# df = pd.DataFrame(columns=['name','z','n','a','t12','dt12','p1n','dp1n','p2n','dp2n','p3n','dp3n'])\n",
    "# for idx,i in enumerate(dataout):\n",
    "#     if (i.get(\"levels\", None)!=None):\n",
    "#         if (i.get(\"p1ndata_web\", None)!=None):\n",
    "#             if (i[\"p1ndata_web\"][\"value\"]!=None):\n",
    "#                 print(i[\"name\"])\n",
    "#                 dat = {'name':i['name'],'z':i['z'],'n':i['n'],'a':i['a'],\n",
    "#                       't12':i[\"levels\"][0][\"halflife\"][\"inSeconds\"][\"value\"],\n",
    "#                        'dt12':i[\"levels\"][0][\"halflife\"][\"inSeconds\"][\"uncertainty\"]}\n",
    "#                 df.loc[i['name']] = dat\n",
    "#     else:\n",
    "#         print(i['name'])"
   ]
  },
  {
   "cell_type": "code",
   "execution_count": 163,
   "metadata": {},
   "outputs": [],
   "source": [
    "# print(df)"
   ]
  }
 ],
 "metadata": {
  "kernelspec": {
   "display_name": "venv",
   "language": "python",
   "name": "venv"
  },
  "language_info": {
   "codemirror_mode": {
    "name": "ipython",
    "version": 3
   },
   "file_extension": ".py",
   "mimetype": "text/x-python",
   "name": "python",
   "nbconvert_exporter": "python",
   "pygments_lexer": "ipython3",
   "version": "3.6.8"
  }
 },
 "nbformat": 4,
 "nbformat_minor": 2
}
